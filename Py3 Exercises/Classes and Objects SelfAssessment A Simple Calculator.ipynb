{
 "cells": [
  {
   "cell_type": "markdown",
   "id": "555c4d1a-84ad-4db8-af4e-7cd16afdca97",
   "metadata": {},
   "source": [
    "The objective of this lab is to practice designing and implementing a program that has more than one class. To that end, you will build a basic calculator that allows the user to input two values and an operator and then outputs the results.\n",
    "\n",
    "# Instructions\n",
    "Your program should include the following:\n",
    "\n",
    "- Design a class called SimpleCalculator that performs basic math operations (addition, subtraction, multiplication, division) on two operands.\n",
    "    - Create a separate method for each operation in the class.\n",
    "- The program should accept two values and an operator from the user, perform the selected operation using those two values, and display the result to the user in a meaningful way.\n",
    "- The user should be able to exit the program at any time, using a keyword like \"Quit\" or \"Exit\" in any letter case.\n",
    "    - If the user chooses to exit, the program should end with an appropriate output message thanking the user.\n",
    "\n",
    "# Requirements\n",
    "- Include your name and a current date as a comment on the first line of the program.\n",
    "- Use appropriate names for all properties, methods, and so on, so that another developer can easily read the code to understand what it does.\n",
    "- The program must accept user input in any letter case (lowercase, uppercase, or mixed) and work without error.\n",
    "- All output to the user should use correct spelling and grammar and be meaningful to the user in the context."
   ]
  },
  {
   "cell_type": "code",
   "execution_count": 10,
   "id": "fbaa2e36-4cb6-43a0-87a8-096146a44665",
   "metadata": {},
   "outputs": [
    {
     "name": "stdout",
     "output_type": "stream",
     "text": [
      "Type quit or exit to stop program.\n"
     ]
    },
    {
     "name": "stdin",
     "output_type": "stream",
     "text": [
      "Do you want to add, sub, mul or div? add\n",
      "Enter first number: 1\n",
      "Enter second number: 1\n"
     ]
    },
    {
     "name": "stdout",
     "output_type": "stream",
     "text": [
      "Result =  2.0\n"
     ]
    },
    {
     "name": "stdin",
     "output_type": "stream",
     "text": [
      "Do you want to add, sub, mul or div? sub\n",
      "Enter first number: 2\n",
      "Enter second number: 1\n"
     ]
    },
    {
     "name": "stdout",
     "output_type": "stream",
     "text": [
      "Result =  1.0\n"
     ]
    },
    {
     "name": "stdin",
     "output_type": "stream",
     "text": [
      "Do you want to add, sub, mul or div? mul\n",
      "Enter first number: 10\n",
      "Enter second number: 10\n"
     ]
    },
    {
     "name": "stdout",
     "output_type": "stream",
     "text": [
      "Result =  100.0\n"
     ]
    },
    {
     "name": "stdin",
     "output_type": "stream",
     "text": [
      "Do you want to add, sub, mul or div? div\n",
      "Enter first number: 100\n",
      "Enter second number: 10\n"
     ]
    },
    {
     "name": "stdout",
     "output_type": "stream",
     "text": [
      "Result =  10.0\n"
     ]
    },
    {
     "name": "stdin",
     "output_type": "stream",
     "text": [
      "Do you want to add, sub, mul or div? stop\n"
     ]
    },
    {
     "name": "stdout",
     "output_type": "stream",
     "text": [
      "You have keyed in a wrong input\n"
     ]
    },
    {
     "name": "stdin",
     "output_type": "stream",
     "text": [
      "Do you want to add, sub, mul or div? quit\n"
     ]
    },
    {
     "name": "stdout",
     "output_type": "stream",
     "text": [
      "Thank you for using the calculator.\n"
     ]
    }
   ],
   "source": [
    "# name = Aaron , date = 12/8/22\n",
    "\n",
    "class SimpleCalculator:\n",
    "    \n",
    "    def add(self):\n",
    "        print('Result = ',a + b)\n",
    "    def sub(self):\n",
    "        print('Result = ',a - b)\n",
    "    def mul(self):\n",
    "        print('Result = ',a * b)\n",
    "    def div(self):\n",
    "        print('Result = ',a / b)\n",
    "    \n",
    "cal = SimpleCalculator()\n",
    "print(\"Type quit or exit to stop program.\")\n",
    "\n",
    "while True:\n",
    "    query = input(\"Do you want to add, sub, mul or div?\")\n",
    "    query = query.lower()\n",
    "    if query == 'quit' or query == 'exit':\n",
    "        break\n",
    "    elif query not in ('add','sub','div','mul'):\n",
    "        print(\"You have keyed in a wrong input\")\n",
    "        continue\n",
    "    try:\n",
    "        a = float(input(\"Enter first number:\"))\n",
    "        b = float(input(\"Enter second number:\"))\n",
    "    except:\n",
    "        print(\"You did not key in a number.\")\n",
    "    if query == 'add':\n",
    "        cal.add()\n",
    "    elif query == 'sub':\n",
    "        cal.sub()\n",
    "    elif query == 'mul':\n",
    "        cal.mul()\n",
    "    elif query == 'div':\n",
    "        cal.div()\n",
    "\n",
    "print(\"Thank you for using the calculator.\")\n"
   ]
  },
  {
   "cell_type": "code",
   "execution_count": null,
   "id": "e31d2141-dc8c-4019-adf0-5ea3c849d0ad",
   "metadata": {},
   "outputs": [],
   "source": []
  }
 ],
 "metadata": {
  "kernelspec": {
   "display_name": "Python 3 (ipykernel)",
   "language": "python",
   "name": "python3"
  },
  "language_info": {
   "codemirror_mode": {
    "name": "ipython",
    "version": 3
   },
   "file_extension": ".py",
   "mimetype": "text/x-python",
   "name": "python",
   "nbconvert_exporter": "python",
   "pygments_lexer": "ipython3",
   "version": "3.7.1"
  }
 },
 "nbformat": 4,
 "nbformat_minor": 5
}
