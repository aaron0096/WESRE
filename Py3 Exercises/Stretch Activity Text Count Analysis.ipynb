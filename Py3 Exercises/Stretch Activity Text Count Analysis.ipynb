{
 "cells": [
  {
   "cell_type": "code",
   "execution_count": 21,
   "id": "3e152141-a39a-4712-b02d-96794f01cd99",
   "metadata": {},
   "outputs": [
    {
     "name": "stdin",
     "output_type": "stream",
     "text": [
      "Please key in a string of your own choice. The programme will count the frequencies of words that occur. c c c c c a b b b\n"
     ]
    },
    {
     "name": "stdout",
     "output_type": "stream",
     "text": [
      "\n",
      "No punctuation at this point.\n",
      " ['c', 'c', 'c', 'c', 'c', 'a', 'b', 'b', 'b'] \n",
      "\n",
      "Length of dict: 3 should be same as length of set: 3\n",
      "\n",
      " {'c': 5, 'a': 1, 'b': 3} \n",
      "\n",
      "c has a count of 5\n",
      "a has a count of 1\n",
      "b has a count of 3\n"
     ]
    },
    {
     "name": "stdin",
     "output_type": "stream",
     "text": [
      "Find out any particular word's frequency: l\n"
     ]
    },
    {
     "name": "stdout",
     "output_type": "stream",
     "text": [
      "\n",
      "The word you keyed in does not exist.\n",
      "original {'c': 5, 'a': 1, 'b': 3}\n",
      "sorted {'a': 1, 'b': 3, 'c': 5}\n",
      "{'a': 1, 'b': 3, 'c': 5}\n"
     ]
    }
   ],
   "source": [
    "import string\n",
    "punctuation_list = list(string.punctuation)\n",
    "\n",
    "s = input(\"Please key in a string of your own choice. The programme \\\n",
    "will count the frequencies of words that occur.\")\n",
    "\n",
    "s_lower = s.lower()\n",
    "\n",
    "words = list()\n",
    "words = s_lower.split()\n",
    "\n",
    "w_clean = list()\n",
    "w_clean1 = list()\n",
    "\n",
    "for i in words:\n",
    "    l = len(i)\n",
    "    \n",
    "    if i is \"\":\n",
    "        continue\n",
    "    elif l == 1 and i in punctuation_list:\n",
    "        continue\n",
    "    elif i[0] in punctuation_list:\n",
    "        i = i[1:l+1]\n",
    "        w_clean1.append(i)\n",
    "    elif i[-1] in punctuation_list:    \n",
    "        i = i[0:l-1]\n",
    "        w_clean1.append(i)\n",
    "    else:\n",
    "        w_clean1.append(i)\n",
    "\n",
    "for i in w_clean1:\n",
    "    l = len(i)\n",
    "\n",
    "    if i[0] in punctuation_list:\n",
    "        i = i[1:l+1]\n",
    "        w_clean.append(i)\n",
    "    elif i[-1] in punctuation_list:    \n",
    "        i = i[0:l-1]\n",
    "        w_clean.append(i)\n",
    "    else:\n",
    "        w_clean.append(i)\n",
    "\n",
    "print(\"\\nNo punctuation at this point.\\n\",w_clean,\"\\n\")\n",
    "        \n",
    "uq_words = set(w_clean)\n",
    "word_freq = dict()\n",
    "\n",
    "for i in w_clean:\n",
    "    if i in word_freq:\n",
    "        word_freq[i] += 1\n",
    "    elif i not in word_freq:\n",
    "        word_freq[i] = 1\n",
    "\n",
    "print(\"Length of dict: {} should be same as length of set: {}\".format(len(word_freq),len(set(uq_words))))\n",
    "        \n",
    "        \n",
    "print(\"\\n\",word_freq,\"\\n\")\n",
    "\n",
    "for i in word_freq:\n",
    "    print(\"{} has a count of {}\".format(i,word_freq[i]))\n",
    "    \n",
    "query1 = input(\"Find out any particular word's frequency:\")\n",
    "\n",
    "print()\n",
    "if query1 in word_freq:\n",
    "    print (\"The frequency for word {} that you asked for is {}\".format(query1,word_freq[query1]))\n",
    "else:\n",
    "    print(\"The word you keyed in does not exist.\")\n",
    "    \n",
    "sorting_list1 = list()\n",
    "for i in word_freq:\n",
    "    sorting_list1.append(i)\n",
    "\n",
    "sorting_list1.sort()\n",
    "sorted_dic = dict()\n",
    "for i in sorting_list1:\n",
    "    sorted_dic[i] = word_freq[i]\n",
    "\n",
    "print (\"original\",word_freq)\n",
    "print (\"sorted\",sorted_dic)\n",
    "\n",
    "sorting_list2 = word_freq.items()\n",
    "\n",
    "sorted_dic2 = dict( sorted(word_freq.items(),key = lambda item:item[1]))\n",
    "\n",
    "print (sorted_dic2)\n"
   ]
  },
  {
   "cell_type": "code",
   "execution_count": null,
   "id": "1d80a1e7-dafb-4ae2-a68d-b464f52a54f0",
   "metadata": {},
   "outputs": [],
   "source": []
  }
 ],
 "metadata": {
  "kernelspec": {
   "display_name": "Python 3 (ipykernel)",
   "language": "python",
   "name": "python3"
  },
  "language_info": {
   "codemirror_mode": {
    "name": "ipython",
    "version": 3
   },
   "file_extension": ".py",
   "mimetype": "text/x-python",
   "name": "python",
   "nbconvert_exporter": "python",
   "pygments_lexer": "ipython3",
   "version": "3.7.1"
  }
 },
 "nbformat": 4,
 "nbformat_minor": 5
}
