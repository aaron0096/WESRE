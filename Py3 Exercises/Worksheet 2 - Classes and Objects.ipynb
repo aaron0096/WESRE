{
 "cells": [
  {
   "cell_type": "markdown",
   "metadata": {},
   "source": [
    "# Classes and Objects\n",
    "This worksheet corresponds to *Lesson 2: Classes and Objects* in the online course. Refer to that lesson as necessary to complete these practice exercises."
   ]
  },
  {
   "cell_type": "markdown",
   "metadata": {},
   "source": [
    "## Practice 1\n",
    "Create a class `Animal` that could represent any animal. \n",
    "\n",
    "Include at least two attributes within the new class."
   ]
  },
  {
   "cell_type": "code",
   "execution_count": 1,
   "metadata": {
    "tags": []
   },
   "outputs": [],
   "source": [
    "# your code here\n",
    "class Animal:\n",
    "    diet = \"\" #diet of the animal\n",
    "    legs = \"\" #how many legs the animal have\n",
    "    environment = \"\" #where the animal lives\n",
    "    \n",
    "    def __init__(aa,diet,legs,environ):\n",
    "        aa.diet = diet\n",
    "        aa.legs = legs\n",
    "        aa.environment = environ\n",
    "        \n",
    "    def display_info(thing):\n",
    "        print(\"This animal is an {}, has {} legs, and stays on/in the {}.\"\\\n",
    "              .format(thing.diet, thing.legs, thing.environment))\n",
    "    \n",
    "    def all_things(thingy):\n",
    "        print(\"{} {} {}\".format(thingy.environment,thingy.diet,thingy.legs))\n",
    "        "
   ]
  },
  {
   "cell_type": "markdown",
   "metadata": {},
   "source": [
    "## Practice 2\n",
    "Using the `Animal` class from the previous exercise, create three objects that represent animals.\n",
    "\n",
    "Print out all attributes for each animal."
   ]
  },
  {
   "cell_type": "code",
   "execution_count": 2,
   "metadata": {
    "tags": []
   },
   "outputs": [
    {
     "name": "stdout",
     "output_type": "stream",
     "text": [
      "carnivore 4 land\n",
      "carnivore 4 land\n",
      "omnivore 0 sea\n"
     ]
    }
   ],
   "source": [
    "# your code here\n",
    "cat = Animal('carnivore',4,'land')\n",
    "# cat.diet = 'carnivore'\n",
    "# cat.legs = 4\n",
    "# cat.environment = 'land'\n",
    "\n",
    "dog = Animal('carnivore',4,'land')\n",
    "# dog.diet = 'carnivore'\n",
    "# dog.legs = 4\n",
    "# dog.environment = 'land'\n",
    "\n",
    "fish = Animal('omnivore',0,'sea')\n",
    "# fish.diet = 'omnivore'\n",
    "# fish.legs = 0\n",
    "# fish.environment = 'sea'\n",
    "\n",
    "print(cat.diet, cat.legs, cat.environment)\n",
    "print(dog.diet, dog.legs, dog.environment)\n",
    "print(fish.diet,fish.legs, fish.environment)\n"
   ]
  },
  {
   "cell_type": "markdown",
   "metadata": {},
   "source": [
    "## Practice 3\n",
    "Create an `__init__` method for the `Animal` class. Include at least three of the attributes you originally defined in the new method.  "
   ]
  },
  {
   "cell_type": "code",
   "execution_count": 3,
   "metadata": {},
   "outputs": [],
   "source": [
    "# your code here\n",
    "# class Animal:\n",
    "#     diet = \"\" #diet of the animal\n",
    "#     legs = \"\" #how many legs the animal have\n",
    "#     environment = \"\" #where the animal lives\n",
    "#     def __init__(self,diet,legs,environ):\n",
    "#         Animal.diet = diet\n",
    "#         Animal.legs = legs\n",
    "#         Animal.environment = environ\n",
    "        \n",
    "parrot = Animal('omnivore','2','land')\n"
   ]
  },
  {
   "cell_type": "markdown",
   "metadata": {},
   "source": [
    "## Practice 4\n",
    "Create a `display_info` method for the `Animal` class. \n",
    "\n",
    "Create three objects from the `Animal` class and display each object using the `display_info` method."
   ]
  },
  {
   "cell_type": "code",
   "execution_count": 4,
   "metadata": {
    "tags": []
   },
   "outputs": [
    {
     "name": "stdout",
     "output_type": "stream",
     "text": [
      "This animal is an carnivore, has 4 legs, and stays on/in the land.\n",
      "This animal is an carnivore, has 4 legs, and stays on/in the land.\n",
      "This animal is an omnivore, has 0 legs, and stays on/in the sea.\n",
      "This animal is an omnivore, has 2 legs, and stays on/in the land.\n"
     ]
    }
   ],
   "source": [
    "# your code here\n",
    "# class Animal:\n",
    "#     diet = \"\" #diet of the animal\n",
    "#     legs = \"\" #how many legs the animal have\n",
    "#     environment = \"\" #where the animal lives\n",
    "#     def __init__(self,diet,legs,environ):\n",
    "#         Animal.diet = diet\n",
    "#         Animal.legs = legs\n",
    "    #     # Animal.environment = environ\n",
    "    # def display_info(self):\n",
    "    #     print(\"This animal is an {}, has {} legs, and stays on/in the {}.\"\\\n",
    "    #           .format(Animal.diet, Animal.legs, Animal.environment))\n",
    "\n",
    "\n",
    "cat.display_info()\n",
    "dog.display_info()\n",
    "fish.display_info()\n",
    "parrot.display_info()\n"
   ]
  },
  {
   "cell_type": "markdown",
   "metadata": {},
   "source": [
    "## Practice 5a\n",
    "The following code includes multiple errors. Find the errors and update the code as necessary. Do not change any of the existing code above line 9.\n",
    "\n",
    "The final output should read:\n",
    "    `Harry Potter and the Sorcerer's Stone by J. K. Rowling, published in 1997`"
   ]
  },
  {
   "cell_type": "code",
   "execution_count": 5,
   "metadata": {},
   "outputs": [
    {
     "name": "stdout",
     "output_type": "stream",
     "text": [
      "Harry Potter and the Sorcerer's Stone by J. K. Rowling, published in 1997\n"
     ]
    }
   ],
   "source": [
    "class Book:\n",
    "    title = \"\"\n",
    "    author = \"\"\n",
    "    pub_date = \"\"\n",
    "    def __init__ (book, ti, au, da):\n",
    "        book.title = ti\n",
    "        book.author = au\n",
    "        book.pub_date = da\n",
    "        \n",
    "#Change only the code below this line\n",
    "    def book_details(self):\n",
    "        print (self.title + \" by \" + self.author + \", published in \" + self.pub_date)\n",
    "        \n",
    "book_1 = Book(\"Harry Potter and the Sorcerer's Stone\", \"J. K. Rowling\",\"1997\")\n",
    "book_1.book_details()\n"
   ]
  },
  {
   "cell_type": "markdown",
   "metadata": {},
   "source": [
    "## Practice 5b\n",
    "Create and execute another meaningful method for the `Animal` class. Make sure to pass the `self` object when executing the method. "
   ]
  },
  {
   "cell_type": "code",
   "execution_count": 7,
   "metadata": {},
   "outputs": [
    {
     "name": "stdout",
     "output_type": "stream",
     "text": [
      "land carnivore 4\n"
     ]
    }
   ],
   "source": [
    "# your code here\n",
    "# class Animal:\n",
    "#     diet = \"\" #diet of the animal\n",
    "#     legs = \"\" #how many legs the animal have\n",
    "#     environment = \"\" #where the animal lives\n",
    "    \n",
    "#     def __init__(aa,diet,legs,environ):\n",
    "#         aa.diet = diet\n",
    "#         aa.legs = legs\n",
    "#         aa.environment = environ\n",
    "        \n",
    "#     def display_info(thing):\n",
    "#         print(\"This animal is an {}, has {} legs, and stays on/in the {}.\"\\\n",
    "#               .format(thing.diet, thing.legs, thing.environment))\n",
    "    \n",
    "#     def all_things(thingy):\n",
    "#         print(\"{} {} {}\".format(thingy.environment,thingy.diet,thingy.legs))\n",
    "\n",
    "        \n",
    "cat.all_things()\n"
   ]
  },
  {
   "cell_type": "markdown",
   "metadata": {},
   "source": [
    "## Practice 6\n",
    "Revise the following code so that the `Person` class includes a list of addresses rather than a single address. "
   ]
  },
  {
   "cell_type": "code",
   "execution_count": 42,
   "metadata": {
    "tags": []
   },
   "outputs": [
    {
     "name": "stdout",
     "output_type": "stream",
     "text": [
      "Account Number: C1566X56576\n",
      "Account Holder Information\n",
      "--------------------------\n",
      "Full name : Haythem Balti\n",
      "Address 1 : 123 Main Street Asbury Park NJ 07712\n",
      "Address 2 : 12 Rue Simon Bolivard Paris France 75019\n",
      "Address 3 : 46 Fourth Street Louisville KY 40208\n"
     ]
    }
   ],
   "source": [
    "class Address:\n",
    "    number = None\n",
    "    street  = None\n",
    "    city = None\n",
    "    state = None\n",
    "    zipcode = None\n",
    "    def  __init__(self,num,st,cty,ste,zc):\n",
    "        self.number = num\n",
    "        self.street = st \n",
    "        self.city = cty\n",
    "        self.state= ste\n",
    "        self.zipcode  = zc\n",
    "    def display(self):\n",
    "        print(str(self.number) + \" \" + self.street + \" \" + self.city + \" \" + self.state + \" \" + self.zipcode)\n",
    "    def return_info(self):\n",
    "        return(str(self.number) + \" \" + self.street + \" \" + self.city + \" \" + self.state + \" \" + self.zipcode)\n",
    "\n",
    "class Person:\n",
    "    fname = None\n",
    "    lname = None\n",
    "    addresses = None #addresses will hold a list  of addresses that belong to a person\n",
    "    def __init__(self,fname,lname,addrs):\n",
    "        self.fname = fname\n",
    "        self.lname = lname\n",
    "        self.addresses = addrs\n",
    "    def display(self):\n",
    "        #implement the display method to display  first name,  last name, \n",
    "        #then iterate through addresses and display each address in one line. \n",
    "        print(\"Full name : {} {}\".format(self.fname, self.lname))\n",
    "        for i in range(len(self.addresses)):\n",
    "            print(\"Address {} : {}\".format(i+1 , self.addresses[i]))\n",
    "\n",
    "    def add_address(self,addr):\n",
    "        #implement\n",
    "        self.addresses.append(addr)\n",
    "\n",
    "\n",
    "class Account:\n",
    "    ain = None \n",
    "    person = None \n",
    "    def __init__(self,ain,person):\n",
    "        self.ain = ain\n",
    "        self.person = person\n",
    "    def display(self):\n",
    "        print(\"Account Number: \" + str(self.ain))\n",
    "        print(\"Account Holder Information\\n--------------------------\")\n",
    "        self.person.display()\n",
    "\n",
    "addr1 = Address(123,\"Main Street\",\"Asbury Park\",\"NJ\",\"07712\")\n",
    "addr2 = Address(12,\"Rue Simon Bolivard\",\"Paris\",\"France\",\"75019\")\n",
    "addresses = list()\n",
    "addresses.append(addr1.return_info())\n",
    "addresses.append(addr2.return_info())\n",
    "\n",
    "\n",
    "p = Person(\"Haythem\",\"Balti\",addresses)\n",
    "addr3 = Address(46,\"Fourth Street\",\"Louisville\",\"KY\",\"40208\")\n",
    " \n",
    "p.add_address(addr3.return_info())\n",
    " \n",
    "#p.display()\n",
    "a = Account(\"C1566X56576\",p)\n",
    "a.display()\n",
    "s"
   ]
  },
  {
   "cell_type": "code",
   "execution_count": null,
   "metadata": {},
   "outputs": [],
   "source": []
  }
 ],
 "metadata": {
  "kernelspec": {
   "display_name": "Python 3 (ipykernel)",
   "language": "python",
   "name": "python3"
  },
  "language_info": {
   "codemirror_mode": {
    "name": "ipython",
    "version": 3
   },
   "file_extension": ".py",
   "mimetype": "text/x-python",
   "name": "python",
   "nbconvert_exporter": "python",
   "pygments_lexer": "ipython3",
   "version": "3.7.1"
  }
 },
 "nbformat": 4,
 "nbformat_minor": 4
}
