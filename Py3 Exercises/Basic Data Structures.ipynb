{
 "cells": [
  {
   "cell_type": "markdown",
   "id": "c1a45010-1e0b-4b51-9c97-c11262b3db5a",
   "metadata": {
    "tags": []
   },
   "source": [
    "The activities in this page are designed to test your ability to meet the objectives for Lesson 1, including:\n",
    "\n",
    "- Use lists to store data collections and retrieve specific values from a collection.\n",
    "- Use tuples to store data collections and retrieve values.\n",
    "\n",
    "Complete each activity as described and run the code to make sure it works as expected before starting the next activity.\n",
    "\n"
   ]
  },
  {
   "cell_type": "markdown",
   "id": "3dacabb5-6026-43bb-b5cb-f53f21dae3b1",
   "metadata": {},
   "source": [
    "# Activity 1\n",
    "Prompt the user to answer a series of 3-5 questions about themselves (such as their name, their age, their birthday, or where they live) and save the answers in a list. Display the results to the user.\n",
    "\n"
   ]
  },
  {
   "cell_type": "code",
   "execution_count": 4,
   "id": "4e2b8f97-6b61-4fa0-946a-808e6a9a3443",
   "metadata": {},
   "outputs": [
    {
     "name": "stdin",
     "output_type": "stream",
     "text": [
      "What's your name? a\n",
      "What's your age? b\n",
      "What's your birthday? c\n",
      "What do you live? d\n"
     ]
    },
    {
     "name": "stdout",
     "output_type": "stream",
     "text": [
      "['a', 'b', 'c', 'd']\n"
     ]
    }
   ],
   "source": [
    "\n",
    "list1=[]\n",
    "\n",
    "list1.append(input(\"What's your name?\"))\n",
    "list1.append(input(\"What's your age?\"))\n",
    "list1.append(input(\"What's your birthday?\"))\n",
    "list1.append(input(\"What do you live?\"))\n",
    "\n",
    "print(list1)"
   ]
  },
  {
   "cell_type": "markdown",
   "id": "8c60fd6d-5a59-4669-a5d0-40171b29cef7",
   "metadata": {},
   "source": [
    "# Activity 2\n",
    "Present the user with an existing list of items (such as the list created in the previous activity) and prompt the user for 2-4 more items to add to the list. Update the list with the new items and display the updated list.\n",
    "\n"
   ]
  },
  {
   "cell_type": "code",
   "execution_count": 6,
   "id": "f4dcedfd-2098-418f-870e-856ac52e346e",
   "metadata": {},
   "outputs": [
    {
     "name": "stdin",
     "output_type": "stream",
     "text": [
      "What's your hobby? sleep\n",
      "Anything else you want to tell me? nope\n"
     ]
    },
    {
     "name": "stdout",
     "output_type": "stream",
     "text": [
      "['a', 'b', 'c', 'd', 'sleep', 'nope']\n"
     ]
    }
   ],
   "source": [
    "\n",
    "list1.append(input(\"What's your hobby?\"))\n",
    "list1.append(input(\"Anything else you want to tell me?\"))\n",
    "\n",
    "print(list1)\n"
   ]
  },
  {
   "cell_type": "markdown",
   "id": "1847eafe-ef8b-4856-ac88-ce6682a65ef7",
   "metadata": {},
   "source": [
    "# Activity 3\n",
    "Present the user with a list of 7-9 items (such as the list created in the previous activities) and prompt them to enter one item to delete from the list. Delete the named item from the list and display the updated list.\n",
    "\n"
   ]
  },
  {
   "cell_type": "code",
   "execution_count": 7,
   "id": "0c1f5093-6370-4eb3-aed3-2bbdbcca9aeb",
   "metadata": {},
   "outputs": [
    {
     "name": "stdin",
     "output_type": "stream",
     "text": [
      "Choose one item to delete from the previous list a\n"
     ]
    },
    {
     "name": "stdout",
     "output_type": "stream",
     "text": [
      "The new list is ['b', 'c', 'd', 'sleep', 'nope']\n"
     ]
    }
   ],
   "source": [
    "\n",
    "delete = input(\"Choose one item to delete from the previous list\")\n",
    "list1.remove(delete)\n",
    "\n",
    "print(\"The new list is\",list1)\n"
   ]
  },
  {
   "cell_type": "markdown",
   "id": "7ca2670e-d50c-44c6-8aac-c61d067e0bea",
   "metadata": {},
   "source": [
    "# Activity 4\n",
    "Present the user with a list of 7-9 items (such as the list created in the previous activities) and prompt them to select one item from the list to update, along with the new value for that item. Change the item's value and display the new list to the user.\n",
    "\n",
    "Tip: Use Google Search or another search engine to find out how to identify the index value of a specific item in a list.\n",
    "\n"
   ]
  },
  {
   "cell_type": "code",
   "execution_count": 9,
   "id": "97f07c16-d6b2-4787-88ee-46b19abcaa02",
   "metadata": {},
   "outputs": [
    {
     "name": "stdin",
     "output_type": "stream",
     "text": [
      "Choose one item you want to change your answer to nope\n",
      "What's the new text you want to enter? herro\n"
     ]
    },
    {
     "name": "stdout",
     "output_type": "stream",
     "text": [
      "['b', 'c', 'd', 'sleep', 'herro']\n"
     ]
    }
   ],
   "source": [
    "\n",
    "index = list1.index(input(\"Choose one item you want to change your answer to\"))\n",
    "list1[index]= input(\"What's the new text you want to enter?\")\n",
    "\n",
    "print (list1)\n"
   ]
  },
  {
   "cell_type": "markdown",
   "id": "1461cfe6-59c1-4bf9-bbaf-172b9e974c80",
   "metadata": {},
   "source": [
    "# Activity 5\n",
    "Create four tuples:\n",
    "\n",
    "One tuple with a person's first name and last name\n",
    "- A second tuple with the person's current profession\n",
    "- A third tuple with the person's current address\n",
    "- A fourth tuple with the person's previous address\n",
    "\n",
    "Combine all tuples into a new, single tuple that contains all items from the original tuples.\n",
    "\n"
   ]
  },
  {
   "cell_type": "code",
   "execution_count": 16,
   "id": "541c49d3-d35e-4e3e-8e58-8798bd9a42ce",
   "metadata": {},
   "outputs": [
    {
     "name": "stdout",
     "output_type": "stream",
     "text": [
      "('Aaron', 'Low', 'Finance', 'Singapore', 'USA')\n"
     ]
    }
   ],
   "source": [
    "\n",
    "tup1 = (\"Aaron\",\"Low\")\n",
    "tup2 = (\"Finance\",)\n",
    "tup3 = (\"Singapore\",)\n",
    "tup4 = (\"USA\",)\n",
    "\n",
    "combinedtup = tup1 + tup2 + tup3 + tup4\n",
    "\n",
    "print (combinedtup)\n",
    "\n"
   ]
  },
  {
   "cell_type": "markdown",
   "id": "0c5b10e9-53bc-4edc-92b2-745f196efc1a",
   "metadata": {},
   "source": [
    "# Activity 6\n",
    "Using the final tuple from the previous activity, write a program that performs the following steps:\n",
    "\n",
    "- Display the tuple to the user.\n",
    "- Prompt the user to enter a value that should be changed.\n",
    "- Prompt the user to enter the updated value for that item.\n",
    "- Update the value and display the updated tuple to the user.\n",
    "\n",
    "Tip\n",
    "You cannot update the contents of a tuple, but you can update the contents of a list."
   ]
  },
  {
   "cell_type": "code",
   "execution_count": 22,
   "id": "9b27edea-e3c7-47c2-9e39-7240d6fa04f1",
   "metadata": {},
   "outputs": [
    {
     "name": "stdout",
     "output_type": "stream",
     "text": [
      "('Muahaha', 'Low', 'Finance', 'Singapore', 'USA')\n"
     ]
    },
    {
     "name": "stdin",
     "output_type": "stream",
     "text": [
      "Please choose an item you want to change: Muahaha\n",
      "Now enter a new value for the item: Aaron\n"
     ]
    },
    {
     "name": "stdout",
     "output_type": "stream",
     "text": [
      "('Aaron', 'Low', 'Finance', 'Singapore', 'USA')\n"
     ]
    }
   ],
   "source": [
    "\n",
    "print (combinedtup)\n",
    "newlist = list(combinedtup)\n",
    "index = newlist.index(input(\"Please choose an item you want to change:\"))\n",
    "newlist[index]=input(\"Now enter a new value for the item:\")\n",
    "combinedtup=tuple(newlist)\n",
    "\n",
    "print(combinedtup)"
   ]
  },
  {
   "cell_type": "code",
   "execution_count": null,
   "id": "b91216b4-594f-4925-8c9c-251e9319e28e",
   "metadata": {},
   "outputs": [],
   "source": []
  }
 ],
 "metadata": {
  "kernelspec": {
   "display_name": "Python 3 (ipykernel)",
   "language": "python",
   "name": "python3"
  },
  "language_info": {
   "codemirror_mode": {
    "name": "ipython",
    "version": 3
   },
   "file_extension": ".py",
   "mimetype": "text/x-python",
   "name": "python",
   "nbconvert_exporter": "python",
   "pygments_lexer": "ipython3",
   "version": "3.7.1"
  }
 },
 "nbformat": 4,
 "nbformat_minor": 5
}
