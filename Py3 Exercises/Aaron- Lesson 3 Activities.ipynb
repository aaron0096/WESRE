{
 "cells": [
  {
   "cell_type": "markdown",
   "metadata": {},
   "source": [
    "# Lesson 3 Activities\n",
    "The following activities are provided to allow you to demonstrate the objectives for this lesson:\n",
    "* Use an `if` statement to determine the outcome of a program.\n",
    "* Use an `if-else` statement to define two potential outcomes.\n",
    "* Use nested `if` statements to define more than two potential outcomes.\n",
    "\n",
    "Complete each activity and make sure that the code runs without errors before completing the next activity."
   ]
  },
  {
   "cell_type": "markdown",
   "metadata": {},
   "source": [
    "## Activity 1\n",
    "Write a program that asks the user how much money they have in their wallet. The program should output \"You're rich!\" if the user inputs 20 or more and \"You're broke!\" if the input is less than 20."
   ]
  },
  {
   "cell_type": "code",
   "execution_count": 2,
   "metadata": {},
   "outputs": [
    {
     "name": "stdin",
     "output_type": "stream",
     "text": [
      "How much money do you have in your wallet? $ 20\n"
     ]
    },
    {
     "name": "stdout",
     "output_type": "stream",
     "text": [
      "You're rich!\n"
     ]
    }
   ],
   "source": [
    "# your code here\n",
    "x = float(input(\"How much money do you have in your wallet? $\"))\n",
    "if x >= 20:\n",
    "    print(\"You're rich!\")\n",
    "else:\n",
    "    print(\"You're broke!\")"
   ]
  },
  {
   "cell_type": "markdown",
   "metadata": {},
   "source": [
    "## Activity 2\n",
    "Write a program that performs the following steps:\n",
    "1. Ask the user if they own any cats. (Yes/No answer)\n",
    "1. Ask the user if they own any dogs. (Yes/No answer)\n",
    "1. If the user responses indicate that they have both cats and dogs, output: \"You must really love pets!\"\n",
    "1. Otherwise, the output should be: \"Maybe you need more pets.\"\n",
    "\n",
    "The last step will apply if the user has cats but not dogs, dogs but not cats, and neither cats nor dogs.\n",
    "\n",
    "Write two different versions of this program: one that uses only `if` statements and another that uses `if-else` statements."
   ]
  },
  {
   "cell_type": "code",
   "execution_count": 6,
   "metadata": {},
   "outputs": [
    {
     "name": "stdin",
     "output_type": "stream",
     "text": [
      "Do you own any cats? (Yes/No answer) yes\n",
      "Do you own any dogs? (Yes/No answer) no\n"
     ]
    },
    {
     "name": "stdout",
     "output_type": "stream",
     "text": [
      "Maybe you need more pets.\n"
     ]
    }
   ],
   "source": [
    "# program using only if statements\n",
    "a1 = input(\"Do you own any cats? (Yes/No answer)\")\n",
    "a2 = input(\"Do you own any dogs? (Yes/No answer)\")\n",
    "a1 = a1.lower()\n",
    "a2 = a2.lower()\n",
    "yes= 'yes'\n",
    "\n",
    "if a1 == yes and a2 == yes:\n",
    "    print (\"You must really love pets!\")\n",
    "if a1 != yes or a2 != yes:\n",
    "    print(\"Maybe you need more pets.\")"
   ]
  },
  {
   "cell_type": "code",
   "execution_count": 8,
   "metadata": {},
   "outputs": [
    {
     "name": "stdin",
     "output_type": "stream",
     "text": [
      "Do you own any cats? (Yes/No answer) yes\n",
      "Do you own any dogs? (Yes/No answer) yes\n"
     ]
    },
    {
     "name": "stdout",
     "output_type": "stream",
     "text": [
      "You must really love pets!\n"
     ]
    }
   ],
   "source": [
    "# program using if-else statements\n",
    "a1 = input(\"Do you own any cats? (Yes/No answer)\")\n",
    "a2 = input(\"Do you own any dogs? (Yes/No answer)\")\n",
    "a1 = a1.lower()\n",
    "a2 = a2.lower()\n",
    "yes= 'yes'\n",
    "\n",
    "if a1 == yes and a2 == yes:\n",
    "    print (\"You must really love pets!\")\n",
    "else:\n",
    "    print(\"Maybe you need more pets.\")"
   ]
  },
  {
   "cell_type": "markdown",
   "metadata": {},
   "source": [
    "## Activity 3\n",
    "Create a computer program that asks the user a few questions to which the user will respond either True or False. Display all the questions with the correct answer and the user's answers at the end of the program, along with the user's the correct response rate (number of questions answered correctly/number of questions)."
   ]
  },
  {
   "cell_type": "code",
   "execution_count": 16,
   "metadata": {},
   "outputs": [
    {
     "name": "stdout",
     "output_type": "stream",
     "text": [
      "Only type 'True' or 'False'.\n"
     ]
    },
    {
     "name": "stdin",
     "output_type": "stream",
     "text": [
      "Question 1:  True\n",
      "Question 2:  True\n",
      "Question 3:  True\n",
      "Question 4:  True\n"
     ]
    },
    {
     "name": "stdout",
     "output_type": "stream",
     "text": [
      "\n",
      "\n",
      "Question 1:  True\n",
      "Question 2:  True\n",
      "Question 3:  True\n",
      "Question 4:  True\n",
      "Total Score = 4 out of 4\n"
     ]
    }
   ],
   "source": [
    "# your code here\n",
    "print(\"Only type 'True' or 'False'.\")\n",
    "q1=\"Question 1: \"\n",
    "q2=\"Question 2: \"\n",
    "q3=\"Question 3: \"\n",
    "q4=\"Question 4: \"\n",
    "a1=input(q1)\n",
    "a2=input(q2)\n",
    "a3=input(q3)\n",
    "a4=input(q4)\n",
    "\n",
    "print (\"\\n\")\n",
    "score=0\n",
    "\n",
    "if a1 == 'True':\n",
    "    print(\"{} {}\".format(q1,a1))\n",
    "    score=score+1\n",
    "if a2 == 'True':\n",
    "    print(\"{} {}\".format(q2,a2))\n",
    "    score=score+1\n",
    "if a3 == 'True':\n",
    "    print(\"{} {}\".format(q3,a3))\n",
    "    score=score+1\n",
    "if a4 == 'True':\n",
    "    print(\"{} {}\".format(q4,a4))\n",
    "    score=score+1\n",
    "print (\"Total Score =\",score,\"out of 4\")\n",
    "    \n",
    "        "
   ]
  },
  {
   "cell_type": "markdown",
   "metadata": {},
   "source": [
    "## Activity 4\n",
    "Write a program that uses `elif` to produce five different possible outcomes based on a single user input.\n",
    "1. Ask the user what season it is (fall, winter, spring, or summer).\n",
    "1. If the user enters fall, output: \"I bet the leaves are pretty there!\"\n",
    "1. If the user enters winter, output: \"I hope you're ready for snow!\"\n",
    "1. If the user enters spring, output: \"I can smell the flowers!\"\n",
    "1. If the user enters summer, output: \"Make sure your AC is working!\"\n",
    "1. If the user enters a value that does not correspond to a season, output: \"I don't recognize that season.\"\n",
    "\n",
    "The user should be able to enter the name of the season in any case and the program will still work.\n",
    "\n",
    "**Challenge**: After you have the program working as describe above, modify the program so that the user can enter either \"fall\" or \"autumn\" and get the same result."
   ]
  },
  {
   "cell_type": "code",
   "execution_count": 1,
   "metadata": {},
   "outputs": [
    {
     "name": "stdin",
     "output_type": "stream",
     "text": [
      "What season is it? (fall,winter,spring,summer) autumn\n"
     ]
    },
    {
     "name": "stdout",
     "output_type": "stream",
     "text": [
      "I bet the leaves are pretty there!\n"
     ]
    }
   ],
   "source": [
    "# your code here\n",
    "season=input(\"What season is it? (fall,winter,spring,summer)\")\n",
    "\n",
    "if season == 'fall' or season == 'autumn':\n",
    "    print(\"I bet the leaves are pretty there!\")\n",
    "elif season == 'winter':\n",
    "    print(\"I hope you're ready for snow!\")\n",
    "elif season == 'spring':\n",
    "    print(\"I can smell the flowers!\")\n",
    "elif season == 'summer':\n",
    "    print(\"Make sure your AC is working!\")\n",
    "else:\n",
    "    print(\"I don't recognize that season.\")"
   ]
  }
 ],
 "metadata": {
  "kernelspec": {
   "display_name": "Python 3",
   "language": "python",
   "name": "python3"
  },
  "language_info": {
   "codemirror_mode": {
    "name": "ipython",
    "version": 3
   },
   "file_extension": ".py",
   "mimetype": "text/x-python",
   "name": "python",
   "nbconvert_exporter": "python",
   "pygments_lexer": "ipython3",
   "version": "3.7.1"
  }
 },
 "nbformat": 4,
 "nbformat_minor": 2
}
