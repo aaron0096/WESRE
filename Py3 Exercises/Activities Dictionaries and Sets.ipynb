{
 "cells": [
  {
   "cell_type": "markdown",
   "id": "3cc2a3b3-6c52-4bae-b76e-fce18f97b239",
   "metadata": {},
   "source": [
    "# Activities: Dictionaries and Sets\n",
    "The activities in this page allow you to demonstrate your ability to:\n",
    "- Store, retrieve, and manipulate a data collection using a dictionary with defined index values.\n",
    "- Store, retrieve, and manipulate data in a set.\n",
    "\n",
    "# Activity 1\n",
    "Create a program that sums all the values in a dictionary and displays them.\n",
    "\n",
    "For example:\n",
    "<pre>dictionary = {\"hello\":4,\"world\":4,\"I\":1,\"am\":2,\"Martha\":3}</pre>\n",
    "output: 14 (the result of 4 + 4 + 1 + 2 + 3)"
   ]
  },
  {
   "cell_type": "code",
   "execution_count": 10,
   "id": "3870107c-ec23-4eb3-a01c-40603a503afa",
   "metadata": {},
   "outputs": [
    {
     "name": "stdout",
     "output_type": "stream",
     "text": [
      "Sum of values is 14\n"
     ]
    }
   ],
   "source": [
    "\n",
    "dictionary = {\"hello\":4,\"world\":4,\"I\":1,\"am\":2,\"Martha\":3}\n",
    "\n",
    "count=0\n",
    "for i in dictionary: \n",
    "    count += int(dictionary[i])\n",
    "    \n",
    "print (\"Sum of values is\",count)\n"
   ]
  },
  {
   "cell_type": "markdown",
   "id": "b155c019-086d-4a0c-a626-49b40582a5ad",
   "metadata": {},
   "source": [
    "# Activity 2\n",
    "Write a program that displays the maximum and minimum values in a dictionary. You may use the same dictionary you used in the previous activity or create a new one."
   ]
  },
  {
   "cell_type": "code",
   "execution_count": 32,
   "id": "0d460ac5-e0f6-49f0-b16a-a3f37831c13d",
   "metadata": {},
   "outputs": [
    {
     "name": "stdout",
     "output_type": "stream",
     "text": [
      "The max value is 4 and the min value is 1.\n"
     ]
    }
   ],
   "source": [
    "\n",
    "dictionary = {\"hello\":4,\"world\":4,\"I\":1,\"am\":2,\"Martha\":3}\n",
    "li = []\n",
    "\n",
    "for i in dictionary: \n",
    "    li.append(int(dictionary[i]))\n",
    "\n",
    "li.sort()\n",
    "\n",
    "print(\"The max value is {} and the min value is {}.\".format(li[-1],li[0]))\n"
   ]
  },
  {
   "cell_type": "markdown",
   "id": "8d752766-4317-4dc0-9465-a0b3d4199b9a",
   "metadata": {},
   "source": [
    "# Activity 3\n",
    "Write a program that returns the sum of the integer elements in a set."
   ]
  },
  {
   "cell_type": "code",
   "execution_count": 26,
   "id": "ab2b1801-b702-40fb-a715-645e79c16c67",
   "metadata": {},
   "outputs": [
    {
     "name": "stdout",
     "output_type": "stream",
     "text": [
      "15\n"
     ]
    }
   ],
   "source": [
    "\n",
    "aset = {\"1\",\"2\",\"3\",\"4\",\"5\",'a','b','c'}\n",
    "count = 0\n",
    "\n",
    "for i in aset:\n",
    "    if i.isdigit() == True:\n",
    "        count += int(i)\n",
    "        \n",
    "print (count)\n"
   ]
  },
  {
   "cell_type": "markdown",
   "id": "eebb80e2-8d41-4f51-aea7-1c08943d2207",
   "metadata": {},
   "source": [
    "# Activity 4\n",
    "Write a program that computes and displays the maximum and the minimum values in a set."
   ]
  },
  {
   "cell_type": "code",
   "execution_count": 33,
   "id": "4301dc49-7752-4756-a4b1-05f891d3c360",
   "metadata": {},
   "outputs": [
    {
     "name": "stdout",
     "output_type": "stream",
     "text": [
      "The max value is 5 and the min value is 1 of set 'aset'.\n"
     ]
    }
   ],
   "source": [
    "\n",
    "aset = {\"1\",\"2\",\"3\",\"4\",\"5\",'a','b','c'}\n",
    "count = 0\n",
    "alist = []\n",
    "\n",
    "for i in aset:\n",
    "    if i.isdigit() == True:\n",
    "        alist.append(i)\n",
    "        \n",
    "alist.sort()\n",
    "\n",
    "print(\"The max value is {} and the min value is {} of set 'aset'.\".format(alist[-1],alist[0]))\n"
   ]
  },
  {
   "cell_type": "markdown",
   "id": "30a0dd1d-775c-4403-bfcf-e75e5b936ea3",
   "metadata": {},
   "source": [
    "# Activity 5\n",
    "Given the following dictionary storage, complete the following tasks:\n",
    "- Add a key named \"freezer\".\n",
    "- Set the value of \"freezer\" to be a list containing the items \"ice cubes\", \"ice cream\", and \"pepperoni pizza\".\n",
    "- Sort the items in the cupboard using sort.\n",
    "- Add \"cream\" to the fridge.\n",
    "- Remove \"sugar\" from the cupboard.\n",
    "- Subtract $25 from the emergency jar.\n",
    "<pre>\n",
    "    storage = {\n",
    "    \"cupboard\" : [\"spices\", \"flour\", \"sugar\"],\n",
    "    \"drawer\" : [\"fork\", \"knife\", \"spoon\"],\n",
    "    \"fridge\" : [\"butter\", \"milk\", \"cheese\"],\n",
    "    \"emergency jar\" : 150\n",
    "}\n",
    " \n",
    "    ##your code here\n",
    "</pre>"
   ]
  },
  {
   "cell_type": "code",
   "execution_count": 38,
   "id": "4a4bee93-a222-4d7e-9c03-2985338b41f0",
   "metadata": {},
   "outputs": [
    {
     "name": "stdout",
     "output_type": "stream",
     "text": [
      "{'cupboard': ['flour', 'spices'], 'drawer': ['fork', 'knife', 'spoon'], 'fridge': ['butter', 'milk', 'cheese', 'cream'], 'emergency jar': 125, 'freezer': ['ice cubes', 'ice cream', 'pepperoni pizza']}\n"
     ]
    }
   ],
   "source": [
    "\n",
    "storage = {\n",
    "  \"cupboard\" : [\"spices\", \"flour\", \"sugar\"],\n",
    "  \"drawer\" : [\"fork\", \"knife\", \"spoon\"],\n",
    "  \"fridge\" : [\"butter\", \"milk\", \"cheese\"],\n",
    "  \"emergency jar\" : 150\n",
    "}\n",
    "\n",
    "##your code here\n",
    "storage['freezer'] = ['ice cubes','ice cream','pepperoni pizza']\n",
    "storage['cupboard'].sort()\n",
    "storage['fridge'].append('cream')\n",
    "storage['cupboard'].remove('sugar')\n",
    "storage['emergency jar'] -= 25\n",
    "\n",
    "print (storage)\n"
   ]
  },
  {
   "cell_type": "markdown",
   "id": "a9a0a8fc-fe70-4a1d-9269-17391247fd9e",
   "metadata": {},
   "source": [
    "# Activity 6\n",
    "Create a new dictionary named shopping_list and add the following items to the dictionary:\n",
    "\n",
    "<pre>\"milk\" : 4,\n",
    "\"butter\" : 2,\n",
    "\"crackers\" : 1.5,\n",
    "\"rice\" : 2.25,\n",
    "\"spaghetti\" : 1.75,\n",
    "\"dish soap\": 3.25</pre>\n",
    "\n",
    "Loop through each item in the list and print out each key with its price. Print the answer in this format:\n",
    "\n",
    "<pre>milk\n",
    "price: 4</pre>\n",
    "\n",
    "Next, calculate how much it will cost if you purchase all the items on the list.\n",
    "- Use a variable named total_cost to store the calculated value.\n",
    "- Loop through the dictionary and add the price of each item to the total cost.\n",
    "- After looping through the dictionary, print out the total cost in a message that is meaningful to the user.\n"
   ]
  },
  {
   "cell_type": "code",
   "execution_count": 44,
   "id": "3690ee07-cc28-4045-a041-996c03dd017c",
   "metadata": {},
   "outputs": [
    {
     "name": "stdout",
     "output_type": "stream",
     "text": [
      "milk\n",
      "price : 4 \n",
      "\n",
      "butter\n",
      "price : 2 \n",
      "\n",
      "crackers\n",
      "price : 1.5 \n",
      "\n",
      "rice\n",
      "price : 2.25 \n",
      "\n",
      "spaghetti\n",
      "price : 1.75 \n",
      "\n",
      "dish soap\n",
      "price : 3.25 \n",
      "\n",
      "Total cost of all items is: $ 14.75\n"
     ]
    }
   ],
   "source": [
    "\n",
    "shopping_list = {\n",
    "    \"milk\" : 4,\n",
    "    \"butter\" : 2,\n",
    "    \"crackers\" : 1.5,\n",
    "    \"rice\" : 2.25,\n",
    "    \"spaghetti\" : 1.75,\n",
    "    \"dish soap\": 3.25\n",
    "}\n",
    "\n",
    "total_cost = 0\n",
    "\n",
    "for i in shopping_list:\n",
    "    print (i)\n",
    "    print(\"price :\",shopping_list[i],\"\\n\")\n",
    "    total_cost += shopping_list[i]  \n",
    "\n",
    "print(\"Total cost of all items is: $ {:.2f}\".format(total_cost))\n"
   ]
  },
  {
   "cell_type": "markdown",
   "id": "536d27a5-73d3-4f7d-8c11-588ce657c3dc",
   "metadata": {},
   "source": [
    "# Activity 7\n",
    "Create two dictionaries: price and quantity.\n",
    "\n",
    "- The price dictionary should be the same as the shopping_list dictionary in the previous activity:\n",
    "\n",
    "<pre>\n",
    "    \"milk\" : 4,\n",
    "    \"butter\" : 2,\n",
    "    \"crackers\" : 1.5,\n",
    "    \"rice\" : 2.25,\n",
    "    \"spaghetti\" : 1.75,\n",
    "    \"dish soap\": 3.25\n",
    "</pre>\n",
    "\n",
    "- The <i>quantity</i> dictionary should have the same keys, but with values that represent the number of items to purchase rather than the price:\n",
    "\n",
    "<pre>\n",
    "    \"milk\" : 1,\n",
    "    \"butter\" : 1,\n",
    "    \"crackers\" : 3,\n",
    "    \"rice\" : 2,\n",
    "    \"spaghetti\" : 5,\n",
    "    \"dish soap\": 1\n",
    "</pre>\n",
    "\n",
    "Write a script that loops through both dictionaries to calculate the total cost if we purchase the indicated quantity of each item in the dictionaries."
   ]
  },
  {
   "cell_type": "code",
   "execution_count": 46,
   "id": "71f79740-57a7-4e40-b285-2ce9ba4e42ae",
   "metadata": {},
   "outputs": [
    {
     "name": "stdout",
     "output_type": "stream",
     "text": [
      "Total cost of all items is: $ 27.00\n"
     ]
    }
   ],
   "source": [
    "\n",
    "price = {\n",
    "    \"milk\" : 4,\n",
    "    \"butter\" : 2,\n",
    "    \"crackers\" : 1.5,\n",
    "    \"rice\" : 2.25,\n",
    "    \"spaghetti\" : 1.75,\n",
    "    \"dish soap\": 3.25\n",
    "}\n",
    "\n",
    "quantity = {\n",
    "    \"milk\" : 1,\n",
    "    \"butter\" : 1,\n",
    "    \"crackers\" : 3,\n",
    "    \"rice\" : 2,\n",
    "    \"spaghetti\" : 5,\n",
    "    \"dish soap\": 1\n",
    "}\n",
    "\n",
    "total_cost = 0\n",
    "for i in price:\n",
    "    itemprice = price[i]\n",
    "    itemquan = quantity[i]\n",
    "    \n",
    "    calc = itemprice * itemquan\n",
    "    total_cost += calc\n",
    "    \n",
    "print(\"Total cost of all items is: $ {:.2f}\".format(total_cost))\n"
   ]
  },
  {
   "cell_type": "code",
   "execution_count": null,
   "id": "7e8b87a7-c208-4655-8f7d-185dee4d089e",
   "metadata": {},
   "outputs": [],
   "source": []
  }
 ],
 "metadata": {
  "kernelspec": {
   "display_name": "Python 3 (ipykernel)",
   "language": "python",
   "name": "python3"
  },
  "language_info": {
   "codemirror_mode": {
    "name": "ipython",
    "version": 3
   },
   "file_extension": ".py",
   "mimetype": "text/x-python",
   "name": "python",
   "nbconvert_exporter": "python",
   "pygments_lexer": "ipython3",
   "version": "3.7.1"
  }
 },
 "nbformat": 4,
 "nbformat_minor": 5
}
