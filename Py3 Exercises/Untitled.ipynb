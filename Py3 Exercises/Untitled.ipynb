{
 "cells": [
  {
   "cell_type": "code",
   "execution_count": 33,
   "id": "212b2c50-2f0c-495d-97bc-543730416360",
   "metadata": {},
   "outputs": [
    {
     "name": "stdout",
     "output_type": "stream",
     "text": [
      "{'aaron': 20, 'banana': 80, 'prata': 50, 'naan': 10}\n",
      "dict_items([('aaron', 20), ('banana', 80), ('prata', 50), ('naan', 10)]) \n",
      " <function <lambda> at 0x0000020EA75440D0>\n",
      "[('naan', 10), ('aaron', 20), ('prata', 50), ('banana', 80)]\n",
      "{'naan': 10, 'aaron': 20, 'prata': 50, 'banana': 80}\n"
     ]
    }
   ],
   "source": [
    "# trees = [\"oak\", \"maple\", \"cherry\", \"dogwood\"]\n",
    "\n",
    "# print(trees[-1])\n",
    "\n",
    "# print(trees[2:4])\n",
    "\n",
    "# print(trees[0:1])\n",
    "\n",
    "# print(trees[3:])\n",
    "\n",
    "# print(trees[:3])\n",
    "\n",
    "# fruit_set = {\"apple\", \"blueberry\", \"cantaloupe\", \"durian\", \"elderberry\", \"apple\", \"banana\"}\n",
    "# print(len(fruit_set))\n",
    "# print(fruit_set)\n",
    "\n",
    "# aset = {'a'}\n",
    "# print(type(aset))\n",
    "\n",
    "# atup = ('a',)\n",
    "# print(type(atup))\n",
    "\n",
    "# notatup = ('a')\n",
    "# print(type(notatup))\n",
    "\n",
    "# print(aset)\n",
    "# aset.add('a')\n",
    "\n",
    "# print(aset)\n",
    "# aset.add('b')\n",
    "# print(aset)\n",
    "\n",
    "unsorted_dict = { 'aaron':20,\n",
    "                  'banana':80,\n",
    "                  'prata':50,\n",
    "                  'naan':10\n",
    "}\n",
    "\n",
    "print(unsorted_dict)\n",
    "\n",
    "sorted_dict = {}\n",
    "sorted_dict = dict( sorted( unsorted_dict.items(),key = lambda item:item[1] ) )\n",
    "sorted_list = sorted( unsorted_dict.items(),key = lambda item:item[1] )\n",
    "alist = unsorted_dict.items()\n",
    "alist2 = key = lambda item:item[1]\n",
    "\n",
    "print(alist,'\\n',alist2)\n",
    "print(sorted_list)\n",
    "print(sorted_dict)\n",
    "\n"
   ]
  },
  {
   "cell_type": "code",
   "execution_count": null,
   "id": "c3ec1286-6b3d-448f-afdc-bf4361be6ee5",
   "metadata": {},
   "outputs": [],
   "source": []
  }
 ],
 "metadata": {
  "kernelspec": {
   "display_name": "Python 3 (ipykernel)",
   "language": "python",
   "name": "python3"
  },
  "language_info": {
   "codemirror_mode": {
    "name": "ipython",
    "version": 3
   },
   "file_extension": ".py",
   "mimetype": "text/x-python",
   "name": "python",
   "nbconvert_exporter": "python",
   "pygments_lexer": "ipython3",
   "version": "3.7.1"
  }
 },
 "nbformat": 4,
 "nbformat_minor": 5
}
