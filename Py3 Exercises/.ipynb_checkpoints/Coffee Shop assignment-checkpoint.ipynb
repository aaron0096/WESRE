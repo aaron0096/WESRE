{
 "cells": [
  {
   "cell_type": "markdown",
   "metadata": {},
   "source": [
    "# Assignment: Coffee Shop\n",
    "This self-assessment asks you to practice skills covered in this module, addressing specifically the following objectives:\n",
    "\n",
    "- Demonstrate the use of basic programming tools, including syntax basics, defining variables, and accepting user input.\n",
    "- Use the string data type in an application, as well as a variety of string operations, including splitting, indexing, and slicing.\n",
    "- Use numbers and number operations in an application.\n",
    "- Use boolean values in an application, especially in the use of conditional statements.\n",
    "- Use conditional statements to determine the outcome of a program.\n",
    "\n",
    "Complete as much of this activity as you can based on what you have learned so far, referencing the learning content only as necessary. You may find it useful to plan out the program using a flowchart or pseudocode before you start building the program itself.\n",
    "\n",
    "Write the program in the code editor or IDE of your choice and run the program to make sure there are no errors.\n",
    "\n",
    "# Description\n",
    "Write a program that will calculate the cost of a custom cup of coffee at a gourmet coffee shop, based on the size of the cup, the type of coffee selected, and flavors that can be added to the coffee. It should complete the following steps:\n",
    "\n",
    "1. Ask the user what size cup they want, choosing between small, medium, and large.\n",
    "2. Ask the user what kind of coffee they want, choosing between brewed, espresso, and cold brew.\n",
    "3. Ask the user what flavoring they want, if any. Choices include hazelnut, vanilla, and caramel.\n",
    "4. Calculate the price of the cup using the following values:\n",
    "    - Size:\n",
    "        - small: 2 dollar\n",
    "        - medium: 3 dollar\n",
    "        - large: 4 dollar\n",
    "    - Type:\n",
    "        - brewed: no additional cost\n",
    "        - espresso: 50 cents\n",
    "        - cold brew: 1 dollar\n",
    "    - Flavoring:\n",
    "        - None: no additional cost\n",
    "        - All other options: 50 cents\n",
    "5. Display a statement that summarizes what the user ordered.\n",
    "6. Display the total cost of the cup of coffee as well as the cost with a 15% tip, in phrases that explain the values to the user. Round the cost with tip to two decimal places.\n",
    "    - For example, if the user asks for a medium-sized espresso with hazelnut flavoring, the total should be 4; the total with a tip should be 4.60.\n",
    "\n",
    "\n",
    "# Sample Output\n",
    "Here is an example of what the user might see when they run this program:\n",
    "\n",
    "<pre>Do you want small, medium, or large? small\n",
    "Do you want brewed, espresso, or cold press? espresso\n",
    "Do you want a flavored syrup? (Yes or No) yes\n",
    "Do you want hazelnut, vanilla, or caramel? vanilla\n",
    "You asked for a small cup of espresso coffee with vanilla syrup.\n",
    "Your cup of coffee costs 3.0\n",
    "The price with a tip is 3.45\n",
    "</pre>\n",
    "\n",
    "Tips\n",
    "<pre>Build the program one condition at a time, checking that each condition works as expected before adding the next condition.\n",
    "Include the user's options in the prompt, so the user knows what values are acceptable answers to each question.\n",
    "Test all possible answers to make sure they work and produce the expected outcome.</pre>\n",
    "\n",
    "# Requirements\n",
    "- Add your name and a current date to a commented line at the top of the code.\n",
    "- Use meaningful variable names to clearly identify the values in the program.\n",
    "- The user should be able to enter text values using any case without causing errors.\n",
    "- All output should be clear and meaningful to the user.\n",
    "\n",
    "# Checklist\n",
    "When you have finished, use the following checklist to make sure you have completed all parts of the task:\n",
    "\n",
    "- Your name and a current date appear in a comment at the top of the program.\n",
    "- The program prompts the user for the size of the coffee and accepts the values small, medium, or large as input.\n",
    "- The program prompts the user for the type of coffee and accepts the values brewed, espresso, or cold brew as input.\n",
    "- The program prompts the user for a flavoring and accepts the values none, hazelnut, vanilla, or caramel.\n",
    "- The program displays a summary of the user's order.\n",
    "- The program displays a total that corresponds to the price of the cup of coffee based on the user's choices.\n",
    "- The program displays a total that corresponds to the price of the cup of coffee with a 15% tip."
   ]
  },
  {
   "cell_type": "code",
   "execution_count": 8,
   "metadata": {},
   "outputs": [
    {
     "name": "stdin",
     "output_type": "stream",
     "text": [
      "What size cup do you want? (s=small, m=medium, l=large) b\n",
      "What type of coffee do you want? (b=brewed, e=espresso, c=cold brew) d\n",
      "Do you want any flavouring? (h=hazelnut, v=vanilla, c=caramel, n=none) d\n"
     ]
    },
    {
     "name": "stdout",
     "output_type": "stream",
     "text": [
      "Size has wrong input, please enter order again.\n"
     ]
    },
    {
     "name": "stdin",
     "output_type": "stream",
     "text": [
      "What size cup do you want? (s=small, m=medium, l=large) s\n",
      "What type of coffee do you want? (b=brewed, e=espresso, c=cold brew) h\n",
      "Do you want any flavouring? (h=hazelnut, v=vanilla, c=caramel, n=none) h\n"
     ]
    },
    {
     "name": "stdout",
     "output_type": "stream",
     "text": [
      "Coffee ordered is wrong choice, please enter order again.\n"
     ]
    },
    {
     "name": "stdin",
     "output_type": "stream",
     "text": [
      "What size cup do you want? (s=small, m=medium, l=large) m\n",
      "What type of coffee do you want? (b=brewed, e=espresso, c=cold brew) c\n",
      "Do you want any flavouring? (h=hazelnut, v=vanilla, c=caramel, n=none) k\n"
     ]
    },
    {
     "name": "stdout",
     "output_type": "stream",
     "text": [
      "Wrong input for flavouring. Please enter again.\n"
     ]
    },
    {
     "name": "stdin",
     "output_type": "stream",
     "text": [
      "What size cup do you want? (s=small, m=medium, l=large) m\n",
      "What type of coffee do you want? (b=brewed, e=espresso, c=cold brew) c\n",
      "Do you want any flavouring? (h=hazelnut, v=vanilla, c=caramel, n=none) n\n"
     ]
    },
    {
     "name": "stdout",
     "output_type": "stream",
     "text": [
      "\n",
      "\n",
      "You asked for a medium cup of cold brew coffee with no flavouring.\n",
      "Your cup of coffee costs 4.00, and 4.60 with 15% tip included\n"
     ]
    }
   ],
   "source": [
    "# name = Aaron, date = 8/8/22\n",
    "\n",
    "\n",
    "testinput=0\n",
    "cost = 0\n",
    "while testinput==0:\n",
    "    testinput=1\n",
    "    size = input(\"What size cup do you want? (s=small, m=medium, l=large)\")\n",
    "    coffee=input(\"What type of coffee do you want? (b=brewed, e=espresso, c=cold brew)\")\n",
    "    flavour=input(\"Do you want any flavouring? (h=hazelnut, v=vanilla, c=caramel, n=none)\")\n",
    "    \n",
    "    if size not in ('s','m','l'):\n",
    "        print(\"Size has wrong input, please enter order again.\")\n",
    "        testinput=0\n",
    "        continue\n",
    "    if coffee not in ('b','e','c'):\n",
    "        print(\"Coffee ordered is wrong choice, please enter order again.\")\n",
    "        testinput=0\n",
    "        continue\n",
    "    if flavour not in ('h','v','c','n'):\n",
    "        print(\"Wrong input for flavouring. Please enter again.\")\n",
    "        testinput=0\n",
    "        continue\n",
    "    print (\"\\n\")\n",
    "        \n",
    "if size == 's':\n",
    "    cost = cost + 2\n",
    "elif size == 'm':\n",
    "    cost = cost + 3\n",
    "elif size == 'l':\n",
    "    cost = cost + 4\n",
    "\n",
    "if coffee == 'e':\n",
    "    cost = cost + 0.5\n",
    "elif coffee == 'c':\n",
    "    cost = cost + 1\n",
    "\n",
    "if flavour in ('h','v','c'):\n",
    "    cost = cost + 0.5\n",
    "    \n",
    "dict1 = {'s':'small','m':'medium','l':'large'}\n",
    "dict2 = {'b':'brewed','e':'espresso','c':'cold brew'}\n",
    "dict3 = {'h':'hazelnut','v':'vanilla','c':'caramel','n':'no'}\n",
    "\n",
    "print (\"You asked for a {} cup of {} coffee with {} flavouring.\".format(dict1[size],dict2[coffee],dict3[flavour]))\n",
    "print (\"Your cup of coffee costs {:.2f}, and {:.2f} with 15% tip included.\".format(cost,(cost*1.15)))\n"
   ]
  },
  {
   "cell_type": "code",
   "execution_count": null,
   "metadata": {},
   "outputs": [],
   "source": []
  }
 ],
 "metadata": {
  "kernelspec": {
   "display_name": "Python 3",
   "language": "python",
   "name": "python3"
  },
  "language_info": {
   "codemirror_mode": {
    "name": "ipython",
    "version": 3
   },
   "file_extension": ".py",
   "mimetype": "text/x-python",
   "name": "python",
   "nbconvert_exporter": "python",
   "pygments_lexer": "ipython3",
   "version": "3.7.1"
  }
 },
 "nbformat": 4,
 "nbformat_minor": 2
}
