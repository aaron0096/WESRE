{
 "cells": [
  {
   "cell_type": "markdown",
   "metadata": {},
   "source": [
    "# Lesson 3 Activities: Inheritance\n",
    "These activities will allow you to demonstrate your ability to:\n",
    "* Create new classes that inherit the attributes and methods of an existing class.\n",
    "* Define inherited classes that have different properties than their parent classes.\n",
    "* Use overriding to replace a property in a parent class with a property in an inherited class."
   ]
  },
  {
   "cell_type": "markdown",
   "metadata": {},
   "source": [
    "## Activity 0\n",
    "Before beginning, create a class `Noun` to use as the starting point for the activities in this section. The `Noun` class can be anything you wish, as long as it meets the following criteria:\n",
    "\n",
    "* Do not use people or animals.\n",
    "* The category must be broad enough to include different examples of the category.\n",
    "* It must represent a real-life object.\n",
    "\n",
    "Include at least three attributes that are common to most (if not all) instances of the `Noun`. Use appropriate naming conventions. If you created a `Noun` class for an earlier activity in this course, you are welcome to use it for the activities in this page, or you can create a new one.\n",
    "\n",
    "Implement the appropriate `__init__` and `display` methods to create and display objects respectively."
   ]
  },
  {
   "cell_type": "code",
   "execution_count": 1,
   "metadata": {},
   "outputs": [],
   "source": [
    "# your code here\n",
    "class Coffee:\n",
    "    variety = \"\" #Coffee variety\n",
    "    origin = \"\" #Coffee origin\n",
    "    taste = \"\" #Taste profile\n",
    "    processing = \"\" #How coffee is processed\n",
    "    \n",
    "    def __init__(self,var,ori,t,pro):\n",
    "        self.variety = var\n",
    "        self.origin = ori\n",
    "        self.taste = t\n",
    "        self.processing = pro\n",
    "    \n",
    "    def display(self):\n",
    "        print(\"This coffee type is : {}\\n\\\n",
    "From the area of : {}\\n\\\n",
    "And it tastes : {}\\n\\\n",
    "And it's processed : {}\\n\".format(self.variety, self.origin,\\\n",
    "                                  self.taste,self.processing))\n",
    "    \n",
    "    def returninfo(self):\n",
    "        return(\"This coffee type is : {}\\n\\\n",
    "From the area of : {}\\n\\\n",
    "And it tastes : {}\\n\\\n",
    "And it's processed : {}\\n\".format(self.variety, self.origin,\\\n",
    "                                  self.taste,self.processing))\n",
    "    \n",
    "    \n",
    "    \n"
   ]
  },
  {
   "cell_type": "markdown",
   "metadata": {},
   "source": [
    "## Activity 1\n",
    "Use inheritance to create another class that will inherit from the `Noun` class. Create two objects using the new class and display each object's information using the `display` method.\n",
    "\n",
    "As an example from this lesson, we started with an `Animal` class, created a `Mammal` class that inherits from `Animal`, and then created two `Mammal` objects. You will need to identify an appropriate class based on your own `Noun` class as well as appropriate objects that represent the inherited class."
   ]
  },
  {
   "cell_type": "code",
   "execution_count": 2,
   "metadata": {},
   "outputs": [
    {
     "name": "stdout",
     "output_type": "stream",
     "text": [
      "This tea type is : Chinese Tea\n",
      "From the area of : China\n",
      "And it tastes : Earthy\n",
      "And it's processed : Sunned Dried\n",
      "\n"
     ]
    }
   ],
   "source": [
    "# your code here\n",
    "class Tea(Coffee):\n",
    "    def display(self):\n",
    "        print(\"This tea type is : {}\\n\\\n",
    "From the area of : {}\\n\\\n",
    "And it tastes : {}\\n\\\n",
    "And it's processed : {}\\n\".format(self.variety, self.origin,\\\n",
    "                                  self.taste,self.processing))\n",
    "        \n",
    "tgy = Tea('Chinese Tea','China','Earthy','Sunned Dried')\n",
    "tgy.display()\n",
    "\n"
   ]
  },
  {
   "cell_type": "markdown",
   "metadata": {
    "tags": []
   },
   "source": [
    "## Activity 2\n",
    "Add at least two attributes to the new class created in the previous activity. These attributes should be different from the attributes in the original `Noun` class and specific to the new class.\n",
    "\n",
    "> As an example from the lesson, the Animal class included the attributes of name and place. The Mammal class that inherits from the Animal class would include mammal-specific attributes, such as gender and fur length.\n",
    "\n",
    "Override the `__init__` and `display` methods to display the new attributes, and then create at least two new objects based on the inherited class and display them with the class attributes."
   ]
  },
  {
   "cell_type": "code",
   "execution_count": 3,
   "metadata": {},
   "outputs": [
    {
     "name": "stdout",
     "output_type": "stream",
     "text": [
      "This tea type is : Chinese Tea\n",
      "From the area of : China\n",
      "And it tastes : Earthy\n",
      "And it's processed : Sunned Dried\n",
      "\n",
      "The method to brew is for 10 minutes at 100 deg celcius water.\n",
      "\n",
      "This tea type is : Herbal Rooibos Tea\n",
      "From the area of : South Africa\n",
      "And it tastes : Earthy\n",
      "And it's processed : Sunned Dried\n",
      "\n",
      "The method to brew is for 5 minutes at 98 deg celcius water.\n",
      "\n"
     ]
    }
   ],
   "source": [
    "# your code here\n",
    "class Tea(Coffee):\n",
    "    \n",
    "    btime = \"\" #How long to brew\n",
    "    btemp = \"\" #How hot water\n",
    "    \n",
    "    def display(self):\n",
    "        print(\"This tea type is : {}\\n\\\n",
    "From the area of : {}\\n\\\n",
    "And it tastes : {}\\n\\\n",
    "And it's processed : {}\\n\".format(self.variety, self.origin,\\\n",
    "                                  self.taste,self.processing))\n",
    "        print(\"The method to brew is for {} at {} deg celcius water.\\n\".format(self.btime, self.btemp))\n",
    "    def __init__(self,var,ori,t,pro,btime,btemp):\n",
    "        self.variety = var\n",
    "        self.origin = ori\n",
    "        self.taste = t\n",
    "        self.processing = pro\n",
    "        self.btime = btime\n",
    "        self.btemp = btemp\n",
    "        \n",
    "tgy = Tea('Chinese Tea','China','Earthy','Sunned Dried','10 minutes','100')\n",
    "tgy.display()\n",
    "        \n",
    "rtea = Tea('Herbal Rooibos Tea','South Africa','Earthy','Sunned Dried','5 minutes','98')\n",
    "rtea.display()\n",
    "\n",
    "        "
   ]
  },
  {
   "cell_type": "markdown",
   "metadata": {},
   "source": [
    "## Activity 3\n",
    "Create a second and a third class that inherit from the `Noun` class you started with. \n",
    "* Include at least three class-specific attributes for each class.\n",
    "\n",
    "For each of the new classes, override the `__init__` and `display` methods to display the new attributes and then create at least two new objects based on the inherited class and display them with the class attributes."
   ]
  },
  {
   "cell_type": "code",
   "execution_count": 11,
   "metadata": {},
   "outputs": [
    {
     "name": "stdout",
     "output_type": "stream",
     "text": [
      "This tea type is : Matcha\n",
      "From the area of : Japan, Hokkaido\n",
      "And it tastes : Sweet, developed\n",
      "\n",
      "The grade of this tea is Ceremonial and costs $50 per 100g.\n",
      "\n",
      "This tea type is : Matcha\n",
      "From the area of : Japan, Tokyo\n",
      "And it tastes : More bitter notes\n",
      "\n",
      "The grade of this tea is Ingredient and costs $10 per 100g.\n",
      "\n",
      "This chocolate type is : Africa\n",
      "From the area of : Dark chocolate\n",
      "Costs $20 per 100g.\n",
      "\n",
      "This chocolate type is : Mexico\n",
      "From the area of : White chocolate\n",
      "Costs $30 per 100g.\n",
      "\n"
     ]
    }
   ],
   "source": [
    "# your code here\n",
    "class Matcha(Coffee):\n",
    "    grade = \"\" # how high the grade is\n",
    "    price = \"\" # cost per unit\n",
    "    \n",
    "    def __init__(self,var,ori,t,grade,price):\n",
    "        self.variety = var\n",
    "        self.origin = ori\n",
    "        self.taste = t\n",
    "        self.grade = grade\n",
    "        self.price = price\n",
    "    \n",
    "    def display(self):\n",
    "        print(\"This tea type is : {}\\n\\\n",
    "From the area of : {}\\n\\\n",
    "And it tastes : {}\\n\\\n",
    "\".format(self.variety, self.origin,\\\n",
    "                                  self.taste))\n",
    "        print(\"The grade of this tea is {} and costs {} per 100g.\\n\".format(self.grade, self.price))\n",
    "\n",
    "        \n",
    "class Chocolate(Coffee):\n",
    "    ctype = \"\" #type of chocolate\n",
    "    price = \"\" #cost per unit\n",
    "    \n",
    "    def __init__(self,ctype,ori,price):\n",
    "        self.ctype = ctype\n",
    "        self.origin = ori\n",
    "        self.price = price\n",
    "    \n",
    "    def display(self):\n",
    "        print(\"This chocolate type is : {}\\n\\\n",
    "From the area of : {}\".format(self.ctype, self.origin))\n",
    "        print(\"Costs {} per 100g.\\n\".format(self.price))\n",
    "\n",
    "ceremonial = Matcha('Matcha','Japan, Hokkaido','Sweet, developed','Ceremonial','$50')\n",
    "ceremonial.display()\n",
    "ingred = Matcha('Matcha','Japan, Tokyo','More bitter notes','Ingredient','$10')\n",
    "ingred.display()\n",
    "\n",
    "dark = Chocolate('Africa','Dark chocolate','$20')\n",
    "dark.display()\n",
    "white = Chocolate('Mexico','White chocolate','$30')\n",
    "white.display()"
   ]
  },
  {
   "cell_type": "markdown",
   "metadata": {},
   "source": [
    "## Activity 4\n",
    "Using the three inherited classes you have already created, use the `__init__` method of the `Noun` class to set the values of the original attributes defined in the `Noun` class.\n",
    "\n",
    "Create two objects for each of the three inherited classes and display all attributes, including attributes from the original `Noun` class."
   ]
  },
  {
   "cell_type": "code",
   "execution_count": 5,
   "metadata": {},
   "outputs": [],
   "source": [
    "# your code here"
   ]
  },
  {
   "cell_type": "markdown",
   "metadata": {},
   "source": [
    "## Activity 5\n",
    "Create a class that inherits from your initial inherited class. Include at least one attribute specific to this class.\n",
    "\n",
    "Create two objects based on this class and display all attributes for each object.\n",
    "\n",
    "> As an example from the lesson, we started with an `Animal` class and then created a `Mammal` class that inherits from `Animal`. We could have also created additional classes that inherit from `Mammal`, such as `Dog` and `Cat`, which would have their own class-specific attributes. "
   ]
  },
  {
   "cell_type": "code",
   "execution_count": 6,
   "metadata": {},
   "outputs": [],
   "source": [
    "# your code here"
   ]
  },
  {
   "cell_type": "markdown",
   "metadata": {},
   "source": [
    "## Activity 6\n",
    "Create another class that inherits from the class created for the previous activity. For the new class, create at least one class-specific attribute and one object based on the class.\n",
    "\n",
    "Use `isinstance()` to verify that the new object is an instance of each of the parent classes of the new class."
   ]
  },
  {
   "cell_type": "code",
   "execution_count": 7,
   "metadata": {},
   "outputs": [],
   "source": [
    "# your code here"
   ]
  },
  {
   "cell_type": "markdown",
   "metadata": {},
   "source": [
    "Inheritance Self-Assessment: File System\n",
    "For this assessment, you will use Python to model a computer's file system.\n",
    "\n",
    "Create a class called FileItem that represents any file in an operating system.\n",
    "Research and identify attributes that are common to all files in an OS, such as permissions, owner, size, and so on.\n",
    "Create a class called CsvFile that inherits from FileItem and that represents a CSV file in an operating system.\n",
    "Include attributes that are specific to a CSV file.\n",
    "Create a class JpgFile that inherits from FileItem and that represents a JPG file in an operating system.\n",
    "Include attributes that are specific to a JPG file.\n",
    "Create a class Mp3File that inherits from FileItem and that represents an MP3 file in an operating system.\n",
    "Include attributes that are specific to an MP3 file.\n",
    "Challenge\n",
    "Create a class Directory that inherits from FileItem and that represents a directory in an operating system.\n",
    "\n",
    "Create a filesystem with at least 20 objects\n",
    "Include at least three objects of each type (CsvFile, JpgFile, Mp3File, and Directory)\n",
    "Include a directory structure with a depth of at least three (directory in a directory in a directory)\n",
    "Include at least one directory that contains at least two other directories and at least two files.\n",
    "Requirements\n",
    "Include your name and a current date in a comment on the first line of code.\n",
    "Use meaningful names so that another developer can easily read your code to understand what it does.\n",
    "The final version of this file must include at least four separate classes: the original FileItem class and three child classes that inherit from FileItem.\n",
    "Each class must include appropriate attributes for that class."
   ]
  },
  {
   "cell_type": "code",
   "execution_count": null,
   "metadata": {},
   "outputs": [],
   "source": []
  }
 ],
 "metadata": {
  "kernelspec": {
   "display_name": "Python 3 (ipykernel)",
   "language": "python",
   "name": "python3"
  },
  "language_info": {
   "codemirror_mode": {
    "name": "ipython",
    "version": 3
   },
   "file_extension": ".py",
   "mimetype": "text/x-python",
   "name": "python",
   "nbconvert_exporter": "python",
   "pygments_lexer": "ipython3",
   "version": "3.7.1"
  }
 },
 "nbformat": 4,
 "nbformat_minor": 4
}
