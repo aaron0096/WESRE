{
 "cells": [
  {
   "cell_type": "markdown",
   "id": "cbdd350d-f520-40b1-a08f-17b4d39a3801",
   "metadata": {},
   "source": [
    "# Self-Assessment: Dictionaries and Sets\n",
    "Create a program that does the following:\n",
    "\n",
    "- Define a set with at least five elements.\n",
    "- Ask the user for a value.\n",
    "- Ask the user for an operation (\"add\" or \"remove\").\n",
    "- If the operation is \"remove\":\n",
    "    - If the value exists in the set, remove the value from the set and display the updated set to the user.\n",
    "    - If the value does not exist in the set, display a user-friendly error message.\n",
    "- If the operation is \"add\":\n",
    "    - If the value exists in the set, display a user-friendly error message.\n",
    "    - If the value does not exist in the set, add the value to the set and display the updated set to the user.\n",
    "- Repeat until the user enters \"quit.\"\n",
    "- When the user enters \"quit,\" display the original set, the final version of the updated set, and the difference between the two sets.\n",
    "\n",
    "# Requirements:\n",
    "- Add your name and the current date in a comment on the first line.\n",
    "- The user must be able to enter the text values (add, remove, quit) using any case they wish without any change in the outcome.\n",
    "- Use correct spelling and punctuation in all user prompts and output.\n",
    "\n",
    "Make sure to test each option for the user input to make sure that each operation works as expected. You may find it useful to create a flowchart or similar diagram to plan the program before starting to write the code.\n",
    "\n",
    "# Self-Check\n",
    "Use the following checklist to verify that you have met all requirements for this activity:\n",
    "\n",
    "- Your name and a current date appear as a comment on the first line of code.\n",
    "- The program prompts the user for an operation and accepts the values add, remove, or quit in any letter case.\n",
    "- All prompts are meaningful to the user, with clear instructions on the expected input.\n",
    "- The program responds appropriately to the user input, according to the exercise instructions.\n",
    "    - If the operation is \"remove\":\n",
    "        - If the value exists in the set, remove the value from the set and display the updated set to the user.\n",
    "        - If the value does not exist in the set, display a user-friendly error message.\n",
    "        - In either case, prompt the user for another operation.\n",
    "    - If the operation is \"add\":\n",
    "        - If the value exists in the set, display a user-friendly error message.\n",
    "        - If the value does not exist in the set, add the value to the set and display the updated set to the user.\n",
    "        - In either case, prompt the user for another operation.\n",
    "    - If the user enters \"quit\":\n",
    "        - The program displays the original set, the updated version of the set, and a set that represents the difference between the two sets."
   ]
  },
  {
   "cell_type": "code",
   "execution_count": 13,
   "id": "0ee1401d-45c0-4748-b05f-fce230a45c7c",
   "metadata": {},
   "outputs": [
    {
     "name": "stdout",
     "output_type": "stream",
     "text": [
      "Enter quit to quit.\n"
     ]
    },
    {
     "name": "stdin",
     "output_type": "stream",
     "text": [
      "Please key in a value:  2\n",
      "Do you want to 'add' or 'remove'?  remove\n"
     ]
    },
    {
     "name": "stdout",
     "output_type": "stream",
     "text": [
      "The new set is:  {'a', 'b', 'c', 'e', '3', 'd', '1', '4', '5'}\n"
     ]
    },
    {
     "name": "stdin",
     "output_type": "stream",
     "text": [
      "Please key in a value:  quit\n"
     ]
    },
    {
     "name": "stdout",
     "output_type": "stream",
     "text": [
      "\n",
      "The original set is:  {'a', 'b', 'c', 'e', '3', 'd', '1', '2', '4', '5'}\n",
      "The updated set is:  {'a', 'b', 'c', 'e', '3', 'd', '1', '4', '5'}\n",
      "The difference is:  {'2'}\n"
     ]
    }
   ],
   "source": [
    "# name = Aaron, date = 10/8/22\n",
    "\n",
    "aset = {'1','2','3','4','5','a','b','c','d','e'}\n",
    "asetnew = aset.copy()\n",
    "\n",
    "print(\"Enter quit to quit.\")\n",
    "\n",
    "while True:\n",
    "    val = input(\"Please key in a value: \").lower()\n",
    "    if val == 'quit':\n",
    "        break\n",
    "    \n",
    "    while True:\n",
    "        val1=input(\"Do you want to 'add' or 'remove'? \").lower()\n",
    "        if val1 == 'quit' or val1 == 'add' or val1 == 'remove':\n",
    "            break\n",
    "        val1 = input(\"Please enter again. Do you want to 'add' or 'remove'?\")\n",
    "    \n",
    "    if val1 == 'quit':\n",
    "        break\n",
    "    elif val1 == 'remove':\n",
    "        try:\n",
    "            asetnew.remove(val)\n",
    "            print(\"The new set is: \",asetnew)\n",
    "        except:\n",
    "            print(\"Sorry, you keyed in {} which does not exists in the set. Remove operation failed.\".format(val))\n",
    "\n",
    "    elif val1 == 'add':\n",
    "        if val in asetnew:\n",
    "            print (\"Sorry, you keyed in {} which already exists in the set. Add operation failed.\".format(val))\n",
    "        elif val not in asetnew:\n",
    "            asetnew.add(val)\n",
    "            print(\"The new set is: \",asetnew)\n",
    "\n",
    "print()\n",
    "print(\"The original set is: \",aset)\n",
    "print(\"The updated set is: \",asetnew)\n",
    "print(\"The difference is: \",aset.difference(asetnew))\n",
    "\n"
   ]
  },
  {
   "cell_type": "code",
   "execution_count": null,
   "id": "7ae762b6-a117-452c-a24d-b12b3dca7a71",
   "metadata": {},
   "outputs": [],
   "source": []
  },
  {
   "cell_type": "markdown",
   "id": "8fedb7f7-dfe0-4149-b5af-8fa4a2911c87",
   "metadata": {},
   "source": []
  }
 ],
 "metadata": {
  "kernelspec": {
   "display_name": "Python 3 (ipykernel)",
   "language": "python",
   "name": "python3"
  },
  "language_info": {
   "codemirror_mode": {
    "name": "ipython",
    "version": 3
   },
   "file_extension": ".py",
   "mimetype": "text/x-python",
   "name": "python",
   "nbconvert_exporter": "python",
   "pygments_lexer": "ipython3",
   "version": "3.7.1"
  }
 },
 "nbformat": 4,
 "nbformat_minor": 5
}
