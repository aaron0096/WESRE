{
 "cells": [
  {
   "cell_type": "markdown",
   "id": "7dda01c0-c6d5-49ac-85fe-6ee6c27a9f8c",
   "metadata": {},
   "source": [
    "# Self-Assessment: Fizz Buzz\n",
    "In this assessment, you will write a program that loops through a series of values and uses those values to determine the output shown to the user.\n",
    "\n",
    "# Instructions\n",
    "Write a program that performs the following steps:\n",
    "\n",
    "1. Ask the user for a number.\n",
    "2. Output a count starting with 0.\n",
    "    - Display the count number if it is not divisible by 3 or 5.\n",
    "    - Replace every multiple of 3 with the word \"fizz.\"\n",
    "    - Replace every multiple of 5 with the word \"buzz.\"\n",
    "    - Replace multiples of both 3 and 5 with \"fizz buzz.\"\n",
    "3. Continue counting until the number of integers replaced with \"fizz,\" \"buzz,\" or \"fizz buzz\" reaches the input number.\n",
    "4. The last output line should read \"TRADITION!!\"\n",
    "\n",
    "For example:\n",
    "\n",
    "<pre>How many fizzing and buzzing units do you need in your life? 7\n",
    "0\n",
    "1\n",
    "2\n",
    "fizz\n",
    "4\n",
    "buzz\n",
    "fizz\n",
    "7\n",
    "8\n",
    "fizz\n",
    "buzz\n",
    "11\n",
    "fizz\n",
    "13\n",
    "14\n",
    "fizz buzz\n",
    "TRADITION!!</pre>\n",
    "\n",
    "# Requirements\n",
    "- Add your name and the current date as a comment on the first line of code.\n",
    "- Use meaningful names for all variables so that another developer can understand the code easily.\n",
    "- All text displayed to the user must be meaningful and use correct grammar and spelling.\n",
    "- The program should prompt the user for a number.\n",
    "- The program should output a count that replaces individual values with \"fizz,\" \"buzz,\" or \"fizz buzz,\" as indicated in the instructions.\n",
    "- The program should output the text \"TRADITION!!\" as the last line of output, as indicated in the instructions."
   ]
  },
  {
   "cell_type": "code",
   "execution_count": 5,
   "id": "19071efa-c921-40cb-b490-61eda166846a",
   "metadata": {},
   "outputs": [
    {
     "name": "stdin",
     "output_type": "stream",
     "text": [
      "How many fizzing and buzzing units do you need in your life? 8\n"
     ]
    },
    {
     "name": "stdout",
     "output_type": "stream",
     "text": [
      "fizz buzz\n",
      "1\n",
      "2\n",
      "fizz\n",
      "4\n",
      "buzz\n",
      "fizz\n",
      "7\n",
      "8\n",
      "fizz\n",
      "buzz\n",
      "11\n",
      "fizz\n",
      "13\n",
      "14\n",
      "fizz buzz\n",
      "TRADITION!!\n"
     ]
    }
   ],
   "source": [
    "# name = Aaron, date = 10/8/22\n",
    "\n",
    "units = input(\"How many fizzing and buzzing units do you need in your life?\")\n",
    "units = int(units)\n",
    "count = 0\n",
    "fbcount=0\n",
    "\n",
    "while fbcount < units:\n",
    "    \n",
    "    if count%3 == 0 and count%5 == 0:\n",
    "        print(\"fizz buzz\")\n",
    "        fbcount += 1\n",
    "    elif count%3 == 0:\n",
    "        print(\"fizz\")\n",
    "        fbcount += 1\n",
    "    elif count%5 ==0:\n",
    "        print(\"buzz\")\n",
    "        fbcount += 1\n",
    "    else:\n",
    "        print(count)\n",
    "    \n",
    "    count += 1\n",
    "print (\"TRADITION!!\")\n",
    "\n",
    "## 0 is a multiple of every number\n"
   ]
  },
  {
   "cell_type": "code",
   "execution_count": null,
   "id": "c4f4e754-e005-45ba-9b4f-453b412e3b24",
   "metadata": {},
   "outputs": [],
   "source": []
  }
 ],
 "metadata": {
  "kernelspec": {
   "display_name": "Python 3 (ipykernel)",
   "language": "python",
   "name": "python3"
  },
  "language_info": {
   "codemirror_mode": {
    "name": "ipython",
    "version": 3
   },
   "file_extension": ".py",
   "mimetype": "text/x-python",
   "name": "python",
   "nbconvert_exporter": "python",
   "pygments_lexer": "ipython3",
   "version": "3.7.1"
  }
 },
 "nbformat": 4,
 "nbformat_minor": 5
}
