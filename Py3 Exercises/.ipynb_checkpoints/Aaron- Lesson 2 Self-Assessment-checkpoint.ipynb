{
 "cells": [
  {
   "cell_type": "markdown",
   "metadata": {},
   "source": [
    "# Lesson 2 Self-Assessment\n",
    "\n",
    "## Instructions\n",
    "Write a script that performs the following steps:\n",
    "\n",
    "* Collect the following individual pieces of data from the user:\n",
    "    * First name\n",
    "    * Last name\n",
    "    * City where they live\n",
    "    * Their hourly wage\n",
    "    * The number of hours they work each week\n",
    "* Based on the data input, present the following information in a format similar to that shown below:\n",
    "\n",
    "<pre>Hi, Firstname Lastname! How are you?\n",
    "I hope the weather is nice in City.\n",
    "Based on the information you provided, you earn X dollars per week, approximately Y dollars per month, and Z dollars per year.</pre>\n",
    "\n",
    "## Requirements\n",
    "\n",
    "* Add your name and the current date in a comment on the first line.\n",
    "* The user can enter the text values using any case they wish, but the output must have only the first letter of each name and city capitalized.\n",
    "    * For example, if the user enters john, JOHN, or joHn as their first name, the output should be John.\n",
    "* Assume that there are four weeks in each month, but the yearly calculation should be based on a full year.\n",
    "* Use correct spelling and punctuation in all user prompts and output.\n",
    "\t\n",
    "Write the code on your own and verify that it produces the expected outcome and runs without error. When testing the program, ensure that the user can enter their name and city in any case they wish and the output will always use appropriate case.\n",
    "\n",
    "**Tip**: This program includes many individual steps. It would help to write a flow chart that outlines what steps the program should take, even before you start to write code. Also remember that you don't have to write the entire program in the first attempt. Instead, break it down into steps you know how to do and do those first, which will build your self-confidence. Tackle the more difficult steps after you've done the easy ones.\n",
    "\n",
    "## Self-Check\n",
    "\n",
    "Use the following checklist to verify that you have met all requirements for this activity:\n",
    "\n",
    "* Your name and a current date appear as a comment on the first line of code.\n",
    "* The program prompts the user for five different pieces of data: first name, last name, city, hourly wage, and number of hours worked per week.\n",
    "* The user can enter their name and city using any case and the output will capitalize only the first letter.\n",
    "* The program performs three different operations based on the hourly wage and the number of hours worked per week.\n",
    "* The program displays the person's wages per week, per month, and per year."
   ]
  },
  {
   "cell_type": "code",
   "execution_count": 3,
   "metadata": {},
   "outputs": [
    {
     "name": "stdin",
     "output_type": "stream",
     "text": [
      "Enter your first name:  a\n",
      "Enter your last name:  b\n",
      "Enter your city:  c\n",
      "Enter your hourly wage:  2\n",
      "Enter the number of hours you work each week:  2\n"
     ]
    },
    {
     "name": "stdout",
     "output_type": "stream",
     "text": [
      "Hi, A B! How are you? I hope the weather is nice in C. Based on the information you provided, you earn 4 dollars per week, approximately 16 dollars per month, and 224 dollars per year.\n"
     ]
    }
   ],
   "source": [
    "# Name = Aaron, current date = 8/8/22\n",
    "# your code here\n",
    "fname = input(\"Enter your first name: \")\n",
    "lname = input(\"Enter your last name: \")\n",
    "city = input(\"Enter your city: \")\n",
    "wage = input(\"Enter your hourly wage: \")\n",
    "hours = input(\"Enter the number of hours you work each week: \")\n",
    "\n",
    "fname=fname.capitalize()\n",
    "lname=lname.capitalize()\n",
    "city=city.capitalize()\n",
    "wage=int(wage)\n",
    "hours=int(hours)\n",
    "\n",
    "week=wage*hours\n",
    "month=week*4\n",
    "year=week*56\n",
    "\n",
    "print(\"Hi, {} {}! How are you? \\\n",
    "I hope the weather is nice in {}. \\\n",
    "Based on the information you provided, you earn {} dollars per week, approximately {} dollars per month, and {} dollars per year.\"\\\n",
    "     .format(fname,lname,city,week,month,year))"
   ]
  }
 ],
 "metadata": {
  "kernelspec": {
   "display_name": "Python 3",
   "language": "python",
   "name": "python3"
  },
  "language_info": {
   "codemirror_mode": {
    "name": "ipython",
    "version": 3
   },
   "file_extension": ".py",
   "mimetype": "text/x-python",
   "name": "python",
   "nbconvert_exporter": "python",
   "pygments_lexer": "ipython3",
   "version": "3.7.1"
  }
 },
 "nbformat": 4,
 "nbformat_minor": 2
}
