{
 "cells": [
  {
   "cell_type": "markdown",
   "id": "7aa5e1d1-47c1-44e4-9b54-88268047df4b",
   "metadata": {},
   "source": [
    "# Activities: Loops\n",
    "The activities in this page will allow you to demonstrate your ability to:\n",
    "\n",
    "- Create a Python script that uses a for loop to repeat an activity until a specific criterion is met.\n",
    "- Create a Python script that uses a while loop to repeat an activity as long as a specific criterion holds true.\n"
   ]
  },
  {
   "cell_type": "markdown",
   "id": "4af65684-7965-472d-9b14-ce5851883c54",
   "metadata": {},
   "source": [
    "\n",
    "# Activity 1\n",
    "Given the list fruit_list, write a script that iterates through the list and prints each item on a separate line.\n",
    "\n",
    "<pre>fruit_list = [\"apple\", \"banana\", \"cherry\", \"gooseberry\",\n",
    "\"kumquat\", \"orange\", \"pineapple\"]\n",
    " \n",
    "# your code here</pre>"
   ]
  },
  {
   "cell_type": "code",
   "execution_count": 1,
   "id": "00017cbd-029c-42fb-83e2-1375618db2af",
   "metadata": {},
   "outputs": [
    {
     "name": "stdout",
     "output_type": "stream",
     "text": [
      "apple\n",
      "banana\n",
      "cherry\n",
      "gooseberry\n",
      "kumquat\n",
      "orange\n",
      "pineapple\n"
     ]
    }
   ],
   "source": [
    "\n",
    "fruit_list = [\"apple\", \"banana\", \"cherry\", \"gooseberry\",\n",
    "\"kumquat\", \"orange\", \"pineapple\"]\n",
    " \n",
    "# your code here\n",
    "for i in fruit_list:\n",
    "    print (i)\n"
   ]
  },
  {
   "cell_type": "markdown",
   "id": "96452479-3bd6-4def-9a74-5fae147bab9b",
   "metadata": {},
   "source": [
    "\n",
    "# Activity 2\n",
    "Write a Python script that asks the user for a string and displays the characters of the string to the user, with each character on a new line.\n",
    "\n",
    "For example, if the input is Hello, the output should be:\n",
    "<pre>H\n",
    "e\n",
    "l\n",
    "l\n",
    "o</pre>\n"
   ]
  },
  {
   "cell_type": "code",
   "execution_count": 9,
   "id": "41ea2f09-eb0e-443b-b257-787485640397",
   "metadata": {},
   "outputs": [
    {
     "name": "stdin",
     "output_type": "stream",
     "text": [
      "Please enter a string. test\n"
     ]
    },
    {
     "name": "stdout",
     "output_type": "stream",
     "text": [
      "\n",
      "t\n",
      "e\n",
      "s\n",
      "t\n"
     ]
    }
   ],
   "source": [
    "\n",
    "string = input(\"Please enter a string.\")\n",
    "print()\n",
    "\n",
    "for i in string:\n",
    "    print (i)\n",
    "    "
   ]
  },
  {
   "cell_type": "markdown",
   "id": "bad4d48f-dcf1-4ce9-8590-be058712be8c",
   "metadata": {},
   "source": [
    "\n",
    "# Activity 3\n",
    "Write a Python script that computes the length of a string without using the len() function."
   ]
  },
  {
   "cell_type": "code",
   "execution_count": 7,
   "id": "f5a10907-0787-4e11-8a4b-1b15dd2fbc04",
   "metadata": {},
   "outputs": [
    {
     "name": "stdout",
     "output_type": "stream",
     "text": [
      "10\n"
     ]
    }
   ],
   "source": [
    "\n",
    "count=0\n",
    "for i in string:\n",
    "    count=count+1\n",
    "    \n",
    "print(count)\n"
   ]
  },
  {
   "cell_type": "markdown",
   "id": "11bf0b44-c26e-4907-ad2c-1bef17294625",
   "metadata": {},
   "source": [
    "\n",
    "\n",
    "# Activity 4\n",
    "Create a program that starts with a list of strings, identifies all the strings with more than two characters, stores the results in another list, and displays the new list.\n",
    "\n",
    "For example:\n",
    "<pre>a = [\"a\", \"bc\", \"rye\", \"hello\", \"c\", \"\"]</pre>\n",
    "\n",
    "Output:\n",
    "<pre>[\"rye\", \"hello\"]</pre>"
   ]
  },
  {
   "cell_type": "code",
   "execution_count": 15,
   "id": "8b6d7825-e468-4a0d-849b-55db8e3c6d6a",
   "metadata": {},
   "outputs": [
    {
     "name": "stdout",
     "output_type": "stream",
     "text": [
      "['rye', 'hello']\n"
     ]
    }
   ],
   "source": [
    "\n",
    "a = [\"a\", \"bc\", \"rye\", \"hello\", \"c\", \"\"]\n",
    "list1=[]\n",
    "\n",
    "for i in range(len(a)):\n",
    "    if len(a[i]) > 2:\n",
    "        list1.append(a[i])\n",
    "\n",
    "print(list1)\n"
   ]
  },
  {
   "cell_type": "markdown",
   "id": "b41529ff-c64f-481c-bc0e-90b20a746ee4",
   "metadata": {},
   "source": [
    "\n",
    "# Activity 5\n",
    "Write two scripts, each of which displays all numbers divisible by 50 between 100 and 1000 (inclusive).\n",
    "\n",
    "- Use the range function with for in one script.\n",
    "- Use while without range in the other script.\n",
    "\n",
    "Both scripts should have identical outputs.\n",
    "<pre>\n",
    "# script 1: range\n",
    "# your code here\n",
    "# script 2: while\n",
    "# your code here\n",
    "</pre>\n"
   ]
  },
  {
   "cell_type": "code",
   "execution_count": 18,
   "id": "5e2c5e51-8d28-47cd-814c-1c4da7425ce2",
   "metadata": {},
   "outputs": [
    {
     "name": "stdout",
     "output_type": "stream",
     "text": [
      "[100, 150, 200, 250, 300, 350, 400, 450, 500, 550, 600, 650, 700, 750, 800, 850, 900, 950, 1000]\n",
      "[100, 150, 200, 250, 300, 350, 400, 450, 500, 550, 600, 650, 700, 750, 800, 850, 900, 950, 1000]\n"
     ]
    }
   ],
   "source": [
    "divlist = []\n",
    "\n",
    "for i in range(100,1001):\n",
    "    if (i % 50) == 0:\n",
    "        divlist.append(i)\n",
    "\n",
    "print (divlist)\n",
    "\n",
    "\n",
    "divlist = []\n",
    "i=100\n",
    "\n",
    "while i <= 1000:\n",
    "    if (i%50) ==0:\n",
    "        divlist.append(i)\n",
    "    i = i+1\n",
    "\n",
    "print(divlist)"
   ]
  },
  {
   "cell_type": "markdown",
   "id": "39ae5b3d-ea26-4c68-8b88-6fd2bbad135d",
   "metadata": {},
   "source": [
    "\n",
    "\n",
    "# Activity 6\n",
    "Create a script that computes the sum of all numbers between 0 and 100."
   ]
  },
  {
   "cell_type": "code",
   "execution_count": 19,
   "id": "9f7d6350-2c40-437b-a3d0-2b475a3b32e3",
   "metadata": {},
   "outputs": [
    {
     "name": "stdout",
     "output_type": "stream",
     "text": [
      "5050\n"
     ]
    }
   ],
   "source": [
    "\n",
    "sum1=0\n",
    "\n",
    "for i in range(0,101):\n",
    "    sum1=sum1+i\n",
    "\n",
    "print(sum1)\n"
   ]
  },
  {
   "cell_type": "markdown",
   "id": "c8fd9353-abc9-433b-aa82-00648996c571",
   "metadata": {},
   "source": [
    "\n",
    "\n",
    "# Activity 7\n",
    "Create a script that computes the factorial of any given number."
   ]
  },
  {
   "cell_type": "code",
   "execution_count": 24,
   "id": "27701820-b2e2-463d-9e6d-95ea29e73e0c",
   "metadata": {},
   "outputs": [
    {
     "name": "stdin",
     "output_type": "stream",
     "text": [
      "Enter a number to calculate it's factorial: 5\n"
     ]
    },
    {
     "name": "stdout",
     "output_type": "stream",
     "text": [
      "120\n"
     ]
    }
   ],
   "source": [
    "\n",
    "fac = input(\"Enter a number to calculate it's factorial:\")\n",
    "fac = int(fac)+1\n",
    "m = 1\n",
    "\n",
    "for i in range(1,fac):\n",
    "    m = m*i\n",
    "\n",
    "print (m)\n"
   ]
  },
  {
   "cell_type": "markdown",
   "id": "a815822e-a40d-4780-8037-241a68a9f9d7",
   "metadata": {},
   "source": [
    "\n",
    "# Activity 8\n",
    "Starting with the defined fruit_list in the code block below, update the script to perform the following tasks.\n",
    "\n",
    "1. Prompt the user to enter the name of a fruit.\n",
    "2. If the fruit is in fruit_list, display an appropriate message to the user and tell the user its index value in the list.\n",
    "3. If the fruit is not in fruit_list, display an appropriate message to the user and prompt them to try again.\n",
    "4. The script should repeat itself until the user enters a stop word at the prompt.\n",
    "Tip: It's always a good idea to tell the user how to end a loop!\n",
    "\n",
    "<pre>fruit_list = [\"apple\", \"banana\", \"cherry\", \"gooseberry\",\n",
    "\"kumquat\", \"orange\", \"pineapple\"]\n",
    " \n",
    "# your code here </pre>"
   ]
  },
  {
   "cell_type": "code",
   "execution_count": 37,
   "id": "38ade79b-ed13-4594-bdfd-11c562431a00",
   "metadata": {},
   "outputs": [
    {
     "name": "stdout",
     "output_type": "stream",
     "text": [
      "Enter 'stop' to stop the programme.\n"
     ]
    },
    {
     "name": "stdin",
     "output_type": "stream",
     "text": [
      "Please enter a name of a fruit:  Chicken\n"
     ]
    },
    {
     "name": "stdout",
     "output_type": "stream",
     "text": [
      "Chicken is not in the fruit list.\n",
      "\n"
     ]
    },
    {
     "name": "stdin",
     "output_type": "stream",
     "text": [
      "Please enter a name of a fruit:  avocado\n"
     ]
    },
    {
     "name": "stdout",
     "output_type": "stream",
     "text": [
      "Avocado is not in the fruit list.\n",
      "\n"
     ]
    },
    {
     "name": "stdin",
     "output_type": "stream",
     "text": [
      "Please enter a name of a fruit:  bread\n"
     ]
    },
    {
     "name": "stdout",
     "output_type": "stream",
     "text": [
      "Bread is not in the fruit list.\n",
      "\n"
     ]
    },
    {
     "name": "stdin",
     "output_type": "stream",
     "text": [
      "Please enter a name of a fruit:  stop\n"
     ]
    }
   ],
   "source": [
    "\n",
    "fruit_list = [\"apple\", \"banana\", \"cherry\", \"gooseberry\", \"kumquat\", \"orange\", \"pineapple\"]\n",
    " \n",
    "# your code here \n",
    "query = 0\n",
    "print (\"Enter 'stop' to stop the programme.\")\n",
    "while query != \"stop\":\n",
    "    query = input(\"Please enter a name of a fruit: \")\n",
    "    query = query.lower()\n",
    "    \n",
    "    if query == \"stop\":\n",
    "        break\n",
    "    \n",
    "    try:\n",
    "        fruit_list.index(query)\n",
    "        print(\"Fruit is in the fruit list.\")\n",
    "    except:\n",
    "        print(query.capitalize(),\"is not in the fruit list.\")\n",
    "    \n",
    "    print()"
   ]
  },
  {
   "cell_type": "markdown",
   "id": "69e3dacd-27fd-4754-8b5a-209f009f2cb3",
   "metadata": {},
   "source": [
    "\n",
    "\n",
    "\n",
    "# Activity 9\n",
    "Create a script that asks the user for a variable number of values and displays the sum of those values to the user. The program should prompt the user for values until the user enters the word \"quit\" (uppercase or lowercase), display the values used in the calculation, and then display the total of those values.\n"
   ]
  },
  {
   "cell_type": "code",
   "execution_count": 40,
   "id": "470d9ea3-4ab3-4cf5-b177-73fa3545babe",
   "metadata": {},
   "outputs": [
    {
     "name": "stdout",
     "output_type": "stream",
     "text": [
      "Please key in numbers, or 'quit' to quit.\n"
     ]
    },
    {
     "name": "stdin",
     "output_type": "stream",
     "text": [
      "Please enter number 1: 1\n",
      "Please enter number 2: 1\n",
      "Please enter number 3: 1\n",
      "Please enter number 4: 1\n",
      "Please enter number 5: 1\n",
      "Please enter number 6: test\n"
     ]
    },
    {
     "name": "stdout",
     "output_type": "stream",
     "text": [
      "Value you entered is not a number.\n"
     ]
    },
    {
     "name": "stdin",
     "output_type": "stream",
     "text": [
      "Please enter number 7: not asdf\n"
     ]
    },
    {
     "name": "stdout",
     "output_type": "stream",
     "text": [
      "Value you entered is not a number.\n"
     ]
    },
    {
     "name": "stdin",
     "output_type": "stream",
     "text": [
      "Please enter number 8: 0.00\n",
      "Please enter number 9: 6\n",
      "Please enter number 10: quit\n"
     ]
    },
    {
     "name": "stdout",
     "output_type": "stream",
     "text": [
      "The total sum of the numbers you entered is: 11.0\n"
     ]
    }
   ],
   "source": [
    "query = 0\n",
    "count = 1\n",
    "sum1 = 0\n",
    "print (\"Please key in numbers, or 'quit' to quit.\")\n",
    "\n",
    "while query != 'quit':\n",
    "    query = input('Please enter number {}:'.format(count))\n",
    "    count = count + 1\n",
    "    \n",
    "    if query.lower() == 'quit':\n",
    "        break\n",
    "    \n",
    "    try: \n",
    "        sum1 = sum1 + float(query)\n",
    "    except:\n",
    "        print(\"Value you entered is not a number.\")\n",
    "\n",
    "print (\"The total sum of the numbers you entered is:\",sum1)\n",
    "    "
   ]
  },
  {
   "cell_type": "markdown",
   "id": "8c36b059-c3b3-406b-885a-3410509e1406",
   "metadata": {},
   "source": [
    "\n",
    "\n",
    "# Activity 10\n",
    "Write a script that asks the user for an integer value and then displays the multiplication table of that input number from 1 through the integer squared."
   ]
  },
  {
   "cell_type": "code",
   "execution_count": 49,
   "id": "2f336189-b5af-418e-ab8f-7ad7db9a0b5a",
   "metadata": {},
   "outputs": [
    {
     "name": "stdin",
     "output_type": "stream",
     "text": [
      "Please key in an integer value. 5\n"
     ]
    },
    {
     "name": "stdout",
     "output_type": "stream",
     "text": [
      "Multiplication table for number 5\n",
      "1 * 5 = 5\n",
      "2 * 5 = 10\n",
      "3 * 5 = 15\n",
      "4 * 5 = 20\n",
      "5 * 5 = 25\n",
      "6 * 5 = 30\n",
      "7 * 5 = 35\n",
      "8 * 5 = 40\n",
      "9 * 5 = 45\n",
      "10 * 5 = 50\n",
      "11 * 5 = 55\n",
      "12 * 5 = 60\n",
      "13 * 5 = 65\n",
      "14 * 5 = 70\n",
      "15 * 5 = 75\n",
      "16 * 5 = 80\n",
      "17 * 5 = 85\n",
      "18 * 5 = 90\n",
      "19 * 5 = 95\n",
      "20 * 5 = 100\n",
      "21 * 5 = 105\n",
      "22 * 5 = 110\n",
      "23 * 5 = 115\n",
      "24 * 5 = 120\n",
      "25 * 5 = 125\n"
     ]
    }
   ],
   "source": [
    "\n",
    "n = input(\"Please key in an integer value.\")\n",
    "\n",
    "\n",
    "while True:\n",
    "    try:\n",
    "        n=int(n)\n",
    "        break\n",
    "    except:\n",
    "        print(\"Input is not an integer!\")\n",
    "        n = input(\"Please key in another integer value.\")\n",
    "\n",
    "        \n",
    "print(\"Multiplication table for number\",n)\n",
    "for i in range(1, n**2 + 1):\n",
    "    mul = i*n\n",
    "    print(\"{} * {} = {}\".format(i,n,mul))\n",
    "    "
   ]
  },
  {
   "cell_type": "markdown",
   "id": "befe73da-28d1-4a2a-b2ea-66fe173d283b",
   "metadata": {},
   "source": [
    "\n",
    "\n",
    "# Activity 11\n",
    "Create a script that identifies all prime numbers between 0 and 100."
   ]
  },
  {
   "cell_type": "code",
   "execution_count": 80,
   "id": "f6b788af-1bff-4ea2-9669-fdcf49ecb8c3",
   "metadata": {},
   "outputs": [
    {
     "name": "stdout",
     "output_type": "stream",
     "text": [
      "Primes numbers are: [2, 3, 5, 7, 11, 13, 17, 19, 23, 29, 31, 37, 41, 43, 47, 53, 59, 61, 67, 71, 73, 79, 83, 89, 97]\n"
     ]
    }
   ],
   "source": [
    "\n",
    "primelist = []\n",
    "\n",
    "for i in range (2,101):\n",
    "    result = []\n",
    "    \n",
    "    for n in range (2,i):\n",
    "        div = i % n\n",
    "        result.append(div)\n",
    "    # print(result)\n",
    "    \n",
    "    if 0 in result:\n",
    "        # print (\"{} is not a prime\".format(i))\n",
    "        continue\n",
    "    elif 0 not in result:\n",
    "        # print(\"{} is a prime\".format(i))\n",
    "        primelist.append(i)\n",
    "\n",
    "print(\"Primes numbers are:\",primelist)\n"
   ]
  },
  {
   "cell_type": "markdown",
   "id": "ac95cf48-cda6-4cf4-ab38-dd29f10057f8",
   "metadata": {},
   "source": [
    "\n",
    "# Activity 12\n",
    "Write a script that calculates the greatest common denominator between two numbers.\n",
    "\n",
    "For example, given the numbers 18 and 27, the greatest common denominator is 9."
   ]
  },
  {
   "cell_type": "code",
   "execution_count": 112,
   "id": "df1b7e78-81f5-4c0b-a3b9-83eac2ffa395",
   "metadata": {},
   "outputs": [
    {
     "name": "stdin",
     "output_type": "stream",
     "text": [
      "Please enter two integers seperated by comma 20,30\n"
     ]
    },
    {
     "name": "stdout",
     "output_type": "stream",
     "text": [
      "The greatest common denominator is: 10\n"
     ]
    }
   ],
   "source": [
    "\n",
    "while True:\n",
    "    query = input(\"Please enter two integers seperated by comma\")\n",
    "    \n",
    "    try:\n",
    "        a,b  = query.split(',',maxsplit=1)\n",
    "        a=int(a)\n",
    "        b=int(b)\n",
    "        break\n",
    "    except:\n",
    "        print(\"One or more is a wrong input\")\n",
    "        continue\n",
    "        \n",
    "if a>b:\n",
    "    lowerval = b\n",
    "elif b>a:\n",
    "    lowerval = a\n",
    "    \n",
    "diva = []\n",
    "divb = []\n",
    "\n",
    "for i in range(1,lowerval+1):\n",
    "    diva.append(a%i)\n",
    "    divb.append(b%i)\n",
    "\n",
    "divisor = []\n",
    "    \n",
    "for i in range(len(diva)):\n",
    "    if diva[i] == 0 and divb[i] == diva[i]:\n",
    "        divisor.append(i+1)\n",
    "\n",
    "divisor.sort(reverse=1)\n",
    "print(\"The greatest common denominator is:\",divisor[0])    \n",
    "        "
   ]
  },
  {
   "cell_type": "markdown",
   "id": "6aae51b4-aa57-4883-ba13-39b9ea2df102",
   "metadata": {},
   "source": [
    "# Activity 13\n",
    "Write a Python script that computes the frequency of each digit in a given integer.\n",
    "\n",
    "For example, if the input number is 334, the output should be:\n",
    "\n",
    "<pre>3 occurs 2 times\n",
    "4 occurs 1 time</pre>\n"
   ]
  },
  {
   "cell_type": "code",
   "execution_count": 173,
   "id": "7e9ba42d-ba9f-4290-8f3c-5959179d515f",
   "metadata": {},
   "outputs": [
    {
     "name": "stdin",
     "output_type": "stream",
     "text": [
      "Please key in an integer 0000\n"
     ]
    },
    {
     "name": "stdout",
     "output_type": "stream",
     "text": [
      "0 occurs 4 times\n"
     ]
    }
   ],
   "source": [
    "\n",
    "while True:\n",
    "    query = str(input(\"Please key in an integer\"))\n",
    "    q1 = query\n",
    "    try:\n",
    "        q1=int(query)\n",
    "        break\n",
    "    except:\n",
    "        print(\"Input given is not an integer.\\n\")\n",
    "        continue\n",
    "        \n",
    "        \n",
    "dict1 = {}\n",
    "for i in range(10):\n",
    "    dict1[str(i)] = 0\n",
    "\n",
    "# print (dict1)\n",
    "\n",
    "query = str(query)\n",
    "count = 0\n",
    "for i in query:\n",
    "    count = dict1[str(i)]\n",
    "    newcount = count+1\n",
    "    dict1[i]=newcount\n",
    "\n",
    "for i in range(10):\n",
    "    count = dict1[str(i)]\n",
    "    if count == 0:\n",
    "        continue\n",
    "    elif count == 1:\n",
    "        print(\"{} occurs {} time\".format(i,count))\n",
    "    elif count > 1:\n",
    "        print(\"{} occurs {} times\".format(i,count))\n",
    "        "
   ]
  },
  {
   "cell_type": "markdown",
   "id": "bd173bf7-efdd-43b0-a725-e0bc97189986",
   "metadata": {},
   "source": [
    "\n",
    "# Activity 14\n",
    "Write a script that calculates the lowest common multiple of two given integers.\n",
    "\n",
    "For example, given the values 4 and 6, the lowest common multiple is 12.\n"
   ]
  },
  {
   "cell_type": "code",
   "execution_count": 139,
   "id": "0e09bd63-7ea3-4671-8ab9-e0439b6d463a",
   "metadata": {},
   "outputs": [
    {
     "name": "stdin",
     "output_type": "stream",
     "text": [
      "Please enter two integers seperated by comma 2,31\n"
     ]
    },
    {
     "name": "stdout",
     "output_type": "stream",
     "text": [
      "The lowest common multiple is: 62\n"
     ]
    }
   ],
   "source": [
    "\n",
    "while True:\n",
    "    query = input(\"Please enter two integers seperated by comma\")\n",
    "    \n",
    "    try:\n",
    "        a,b  = query.split(',',maxsplit=1)\n",
    "        a=int(a)\n",
    "        b=int(b)\n",
    "        break\n",
    "    except:\n",
    "        print(\"One or more is a wrong input\")\n",
    "        continue\n",
    "       \n",
    "        \n",
    "if a > b:\n",
    "    higherint = int(a)\n",
    "elif b > a:\n",
    "    higherint = int(b)\n",
    "    \n",
    "mula = []\n",
    "mulb = []\n",
    "\n",
    "for i in range(1, higherint+1 ):\n",
    "    mula.append(a*i)\n",
    "    mulb.append(b*i)\n",
    "\n",
    "for i in range(len(mula)):\n",
    "    if mula[i] in mulb:\n",
    "        print (\"The lowest common multiple is:\",mula[i])\n",
    "        break\n"
   ]
  },
  {
   "cell_type": "markdown",
   "id": "cef92ff3-a62e-408e-bd07-9b56bf1424d9",
   "metadata": {},
   "source": [
    "\n",
    "\n",
    "\n",
    "\n",
    "# Activity 15\n",
    "Write a Python script that determines if an input number can be expressed as the sum of two prime numbers.\n",
    "\n",
    "For example, the number 10 can be expressed as the sum of two prime numbers:\n",
    "\n",
    "- 10 = 3 + 7 : both prime numbers\n",
    "- 10 = 5 + 5 : both prime numbers\n",
    "\n",
    "However, the number 11 cannot be:\n",
    "\n",
    "- 11 = 1 + 10 : neither 1 nor 10 are prime numbers\n",
    "- 11 = 2 + 9 : 9 is not a prime number\n",
    "- 11 = 3 + 8 : 8 is not a prime number\n",
    "- 11 = 4 + 7 : 4 is not a prime number\n",
    "- 11 = 5 + 6 : 6 is not a prime number"
   ]
  },
  {
   "cell_type": "code",
   "execution_count": 162,
   "id": "8335ef7a-54ac-4449-a6ab-2d05e4b1aade",
   "metadata": {},
   "outputs": [
    {
     "name": "stdin",
     "output_type": "stream",
     "text": [
      "Please enter an integer:  23\n"
     ]
    },
    {
     "name": "stdout",
     "output_type": "stream",
     "text": [
      "Number cannot be expressed as two primes.\n",
      "23 = 2 + 21 : 21 is not a prime number\n",
      "23 = 3 + 20 : 20 is not a prime number\n",
      "23 = 4 + 19 : 4 is not a prime number\n",
      "23 = 5 + 18 : 18 is not a prime number\n",
      "23 = 6 + 17 : 6 is not a prime number\n",
      "23 = 7 + 16 : 16 is not a prime number\n",
      "23 = 8 + 15 : both 8 and 15 are not prime numbers\n",
      "23 = 9 + 14 : both 9 and 14 are not prime numbers\n",
      "23 = 10 + 13 : 10 is not a prime number\n",
      "23 = 11 + 12 : 12 is not a prime number\n"
     ]
    }
   ],
   "source": [
    "\n",
    "while True:\n",
    "    a = input(\"Please enter an integer: \")\n",
    "    \n",
    "    try:\n",
    "        a=int(a)\n",
    "        break\n",
    "    except:\n",
    "        print(\"Input is not an integer, please enter again.\\n\")\n",
    "        continue\n",
    "        \n",
    "primelist = []\n",
    "for i in range (2 , a+1//2):\n",
    "    result = []\n",
    "    \n",
    "    for n in range (2,i):\n",
    "        div = i % n\n",
    "        result.append(div)\n",
    "    \n",
    "    if 0 in result:\n",
    "        continue\n",
    "    elif 0 not in result:\n",
    "        primelist.append(i)\n",
    "\n",
    "textwrong = []\n",
    "textright = []\n",
    "count = 0\n",
    "\n",
    "for i in range(2, a//2 + 1):\n",
    "    n = a - i\n",
    "    \n",
    "    if n not in primelist and i not in primelist:\n",
    "        textwrong.append(\"{0} = {1} + {2} : both {1} and {2} are not prime numbers\".format(a,i,n))\n",
    "    elif n not in primelist:\n",
    "        textwrong.append(\"{0} = {1} + {2} : {2} is not a prime number\".format(a,i,n))\n",
    "    elif i not in primelist:\n",
    "        textwrong.append(\"{0} = {1} + {2} : {1} is not a prime number\".format(a,i,n))\n",
    "    else:\n",
    "        textright.append(\"{0} = {1} + {2} : both are prime numbers\".format(a,i,n))\n",
    "        count = count + 1\n",
    "        \n",
    "if count == 0:\n",
    "    print(\"Number cannot be expressed as two primes.\")\n",
    "    for i in textwrong:\n",
    "        print (i)\n",
    "else:\n",
    "    print(\"Number can be expressed as two primes.\")\n",
    "    for i in textright:\n",
    "        print(i)\n",
    "        "
   ]
  },
  {
   "cell_type": "code",
   "execution_count": null,
   "id": "aa81c363-79ec-4d35-a574-420bccdcc6cc",
   "metadata": {},
   "outputs": [],
   "source": []
  }
 ],
 "metadata": {
  "kernelspec": {
   "display_name": "Python 3 (ipykernel)",
   "language": "python",
   "name": "python3"
  },
  "language_info": {
   "codemirror_mode": {
    "name": "ipython",
    "version": 3
   },
   "file_extension": ".py",
   "mimetype": "text/x-python",
   "name": "python",
   "nbconvert_exporter": "python",
   "pygments_lexer": "ipython3",
   "version": "3.7.1"
  }
 },
 "nbformat": 4,
 "nbformat_minor": 5
}
