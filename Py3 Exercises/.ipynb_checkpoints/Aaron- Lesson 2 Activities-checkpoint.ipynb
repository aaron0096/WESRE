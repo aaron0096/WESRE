{
 "cells": [
  {
   "cell_type": "markdown",
   "metadata": {},
   "source": [
    "# Module 1 - Lesson 2 Activities\n",
    "The activities here will give you the opportunity to practice the skills and tools presented in Lesson 2, with the following objectives:\n",
    "1. Demonstrate the use of a variety of data types in Python, including numbers, booleans, and strings.\n",
    "1. Distinguish between float values, integers, and complex numbers.\n",
    "1. Use Python to perform operations using numbers.\n",
    "1. Use Python to perform logic operations using booleans.\n",
    "1. Use Python to manipulate string values.\n",
    "\n",
    "Software development skills build on each other, so many of the activities here will also require skills and tools presented in earlier lessons."
   ]
  },
  {
   "cell_type": "markdown",
   "metadata": {},
   "source": [
    "## Activity 1\n",
    "Create a computer program that performs the following steps:\n",
    "\n",
    "Prompt the user for an integer and store the value in a variable.<br>\n",
    "Display the data type of the variable that holds the entered data.<br>\n",
    "Convert the value to an integer type and store the converted value in a new variable.<br>\n",
    "Display the value and type of the new variable in a single sentence. (For example, \"The value is 8 with type integer.\")<br>\n",
    "Run the program and enter a float value at the prompt. What is its value in the last step?<br>\n",
    "Refactor the program, using a float instead of an integer. What happens if you enter an integer rather than a float at the prompt?"
   ]
  },
  {
   "cell_type": "code",
   "execution_count": 9,
   "metadata": {},
   "outputs": [
    {
     "name": "stdin",
     "output_type": "stream",
     "text": [
      "Enter an integer 5.000\n"
     ]
    },
    {
     "name": "stdout",
     "output_type": "stream",
     "text": [
      "<class 'str'>\n",
      "The value is 5.000 with type <class 'float'>.\n"
     ]
    }
   ],
   "source": [
    "# your code here\n",
    "input1 = input(\"Enter an integer\")\n",
    "print(type(input1))\n",
    "\n",
    "input1int = float(input1)\n",
    "print(\"The value is {} with type {}.\".format(input1, type(input1int)))\n",
    "\n",
    "# Entering float value when it's int gives error."
   ]
  },
  {
   "cell_type": "markdown",
   "metadata": {},
   "source": [
    "## Activity 2\n",
    "Update the code below so that the result is equal to 576. Do not change any of the existing values or operators or the order in which they appear."
   ]
  },
  {
   "cell_type": "code",
   "execution_count": 11,
   "metadata": {},
   "outputs": [
    {
     "name": "stdout",
     "output_type": "stream",
     "text": [
      "576\n"
     ]
    }
   ],
   "source": [
    "# do not change the order in which the numbers and operators appear in the next line\n",
    "result = 5 + 3 ** 2 * 9 \n",
    "\n",
    "print(int(result*6.5+17)) # the output should be 576"
   ]
  },
  {
   "cell_type": "markdown",
   "metadata": {},
   "source": [
    "## Activity 3\n",
    "Create a program that prompts the user for a float number and returns the integer portion of the floating number."
   ]
  },
  {
   "cell_type": "code",
   "execution_count": 29,
   "metadata": {},
   "outputs": [
    {
     "name": "stdin",
     "output_type": "stream",
     "text": [
      "Please enter a float number:  5.5\n"
     ]
    },
    {
     "name": "stdout",
     "output_type": "stream",
     "text": [
      "The integer portions is 5\n"
     ]
    }
   ],
   "source": [
    "# your code here\n",
    "number=float(input(\"Please enter a float number: \"))\n",
    "\n",
    "print(\"The integer portions is {}\".format(int(number)))"
   ]
  },
  {
   "cell_type": "markdown",
   "metadata": {},
   "source": [
    "## Activity 4\n",
    "Write a program that calculates and displays the current value of an investment for a given initial deposit, interest rate, the number of times interest is calculated per year, and the number of years since the initial deposit.\n",
    "\n",
    "The program should prompt the user for each of the values and use the following formula to calculate the current value of the deposit:\n",
    "\n",
    "    V = P(1 + r/n)^nt\n",
    "    \n",
    "Where each letter represents concepts listed below:\n",
    "* `V`: Value\n",
    "* `P`: Initial deposit\n",
    "* `r`: Interest rate as a fraction (e.g., 0.05)\n",
    "* `n`: Number of times per year interest is calculated\n",
    "* `t`: Number of years since the initial deposit\n",
    "\t\n",
    "\t    \n",
    "The program should show the user the results of the calculation and each of the input values in a meaningful way (so that the user can easily tell what each value represents)."
   ]
  },
  {
   "cell_type": "code",
   "execution_count": 28,
   "metadata": {},
   "outputs": [
    {
     "name": "stdin",
     "output_type": "stream",
     "text": [
      "Enter a value for initial deposit:  9\n",
      "Enter a value for interest rate:  9\n",
      "Enter the interest payment frequency per year:  9\n",
      "Enter number of years for the interest to work:  9\n"
     ]
    },
    {
     "name": "stdout",
     "output_type": "stream",
     "text": [
      " \n",
      "Intial Deposit=9.00 ,Interest rate=9.00000 , Interest rate frequency per year=9, Years to calculate interest=9.000000\n",
      "Final value is 21,760,664,753,063,325,144,711,168.00\n"
     ]
    }
   ],
   "source": [
    "##### your code here\n",
    "P = float(input(\"Enter a value for initial deposit: \"))\n",
    "r = float(input(\"Enter a value for interest rate: \"))\n",
    "n = float(input(\"Enter the interest payment frequency per year: \"))\n",
    "t = float(input(\"Enter number of years for the interest to work: \"))\n",
    "\n",
    "V = P * (1 + r/n)**(n*t)\n",
    "print (\" \")\n",
    "print (\"Intial Deposit={:,.2f} ,Interest rate={:.5f} , Interest rate frequency per year={:.0f}\".format(P,r,n) , end='')\n",
    "print (\", Years to calculate interest={:0f}\".format(t))\n",
    "print (\"Final value is {:,.2f}\".format(V) )\n"
   ]
  },
  {
   "cell_type": "markdown",
   "metadata": {},
   "source": [
    "## Activity 5\n",
    "Write a program that prompts the user for a principal amount, the rate of interest, and the number of days for a loan, and then calculates and returns the simple interest for the life of the loan. Use the formula below:\n",
    "\n",
    "    interest = principal * rate * days / 365"
   ]
  },
  {
   "cell_type": "code",
   "execution_count": 31,
   "metadata": {},
   "outputs": [
    {
     "name": "stdin",
     "output_type": "stream",
     "text": [
      "Please enter the principal amount:  100000\n",
      "Please enter the interest rate:  2\n",
      "Please enter number of days of loan:  3\n"
     ]
    },
    {
     "name": "stdout",
     "output_type": "stream",
     "text": [
      "Your calculated interest is $1,643.84\n"
     ]
    }
   ],
   "source": [
    "# your code here\n",
    "P = float(input(\"Please enter the principal amount: \"))\n",
    "r = float(input(\"Please enter the interest rate: \"))\n",
    "d = float(input(\"Please enter number of days of loan: \"))\n",
    "\n",
    "i = P * r * d / 365\n",
    "print(\"Your calculated interest is ${:,.2f}\".format(i))\n"
   ]
  },
  {
   "cell_type": "markdown",
   "metadata": {},
   "source": [
    "## Activity 6\n",
    "Create a program that displays three statements that evaluate to True and three statements that evaluate to False.\n",
    "\n",
    "Example:\n",
    "\n",
    "    a = 0\n",
    "    b = 1 \n",
    "    \n",
    "    Output: a < b = True"
   ]
  },
  {
   "cell_type": "code",
   "execution_count": 39,
   "metadata": {},
   "outputs": [
    {
     "name": "stdout",
     "output_type": "stream",
     "text": [
      "a = 0 = True, \n",
      "b = 1 = True, \n",
      "a < b = True, \n",
      "a = 1 = False, \n",
      "b = 0 = False, \n",
      "b < a = False\n"
     ]
    }
   ],
   "source": [
    "# your code here\n",
    "a=0\n",
    "b=1\n",
    "\n",
    "print(\"a = 0 = {}, \\nb = 1 = {}, \\na < b = {}, \\na = 1 = {}, \\nb = 0 = {}, \\nb < a = {}\".format(bool(a==0),bool(b==1),bool(a<b),bool(a==1),bool(b==0),bool(b<a)))\n"
   ]
  },
  {
   "cell_type": "markdown",
   "metadata": {},
   "source": [
    "## Activity 7\n",
    "Create a program that prompts the user for a number and calculates the following:\n",
    "* The boolean of the number entered\n",
    "* The binary equivalent of the number entered\n",
    "* The square root of the number entered\n",
    "\n",
    "The program should display the following to the user:\n",
    "* The number the user entered, in a phrase like, \"You selected `value`.\"\n",
    "* The boolean of the number, in a phrase like, \"The boolean of your number is `value`.\"\n",
    "* The binary equivalent of the number, in a phrase like, \"The binary equivalent of your number is `value`.\"\n",
    "* The square root of the number, with the value rounded to three decimal places, in a phrase like, \"The square root of your number is `value`.\""
   ]
  },
  {
   "cell_type": "code",
   "execution_count": 55,
   "metadata": {},
   "outputs": [
    {
     "name": "stdin",
     "output_type": "stream",
     "text": [
      "Please input a number:  9\n"
     ]
    },
    {
     "name": "stdout",
     "output_type": "stream",
     "text": [
      "You have selected the number 9\n",
      "The boolean of your number is True\n",
      "The binary equivalent of your number is 0b1001\n",
      "The square root of your number is 3.000\n"
     ]
    }
   ],
   "source": [
    "# your code here\n",
    "x = input(\"Please input a number: \")\n",
    "x = int(x)\n",
    "\n",
    "\n",
    "print(\"You have selected the number\",x)\n",
    "print(\"The boolean of your number is\",bool(x))\n",
    "print(\"The binary equivalent of your number is\",bin(int(x)))\n",
    "print(\"The square root of your number is {:.3f}\".format(x**0.5))"
   ]
  },
  {
   "cell_type": "markdown",
   "metadata": {},
   "source": [
    "## Activity 8\n",
    "Create a program that completes the following tasks:\n",
    "1. Prompt the user for a series of five integers. \n",
    "    * The user must be asked for five numbers.\n",
    "1. After the fifth entry, stop prompting for values and calculate the following: \n",
    "    * The product of the integers\n",
    "    * The average of the integers\n",
    "    * The sum of the integers\n",
    "1. After performing the calculations, display the following to the user: \n",
    "    * The values the user entered\n",
    "    * The values of the calculations, using a phrase that identifies the value"
   ]
  },
  {
   "cell_type": "code",
   "execution_count": 74,
   "metadata": {},
   "outputs": [
    {
     "name": "stdin",
     "output_type": "stream",
     "text": [
      "Input 5 values with a space between each: 9 9 9 9 9\n"
     ]
    },
    {
     "name": "stdout",
     "output_type": "stream",
     "text": [
      "Numbers entered are: 9 9 9 9 9\n",
      "\n",
      "Product = 59,049.00,\n",
      "Average = 9.00,\n",
      "Sum = 45\n"
     ]
    }
   ],
   "source": [
    "## your code here\n",
    "a,b,c,d,e = input(\"Input 5 values with a space between each:\").split()\n",
    "a=int(a)\n",
    "b=int(b)\n",
    "c=int(c)\n",
    "d=int(d)\n",
    "e=int(e)\n",
    "\n",
    "\n",
    "prod = a*b*c*d*e\n",
    "asum = a+b+c+d+e\n",
    "average = asum/5\n",
    "print(\"Numbers entered are: {} {} {} {} {}\".format(a,b,c,d,e))\n",
    "print(\"\\nProduct = {:,.0f},\\nAverage = {:.2f},\\nSum = {}\".format(prod,average,asum))"
   ]
  },
  {
   "cell_type": "markdown",
   "metadata": {},
   "source": [
    "## Activity 9\n",
    "1. Start with a street address that includes a building/house number, the name of the street, and the type of street (Street, Avenue, Boulevard, etc.). \n",
    "    * You can use any address you wish and abbreviations are acceptable.\n",
    "    * For example: 25 Main Street\n",
    "1. Display the full address to the user.\n",
    "1. Display the house number only in a phrase like, \"The building or house number is 25.\"\n",
    "1. Display the street name in a phrase like, \"The street name is Main Street.\""
   ]
  },
  {
   "cell_type": "code",
   "execution_count": 88,
   "metadata": {},
   "outputs": [
    {
     "name": "stdout",
     "output_type": "stream",
     "text": [
      "The block number is 1 and the street is on Tanjong Pagar Plaza\n"
     ]
    }
   ],
   "source": [
    "# your code here\n",
    "street=\"1 Tanjong Pagar Plaza\"\n",
    "b=[]\n",
    "a,b=street.split(' ', maxsplit=1)\n",
    "print(\"The block number is {} and the street is on {}\".format(a,b))"
   ]
  }
 ],
 "metadata": {
  "kernelspec": {
   "display_name": "Python 3",
   "language": "python",
   "name": "python3"
  },
  "language_info": {
   "codemirror_mode": {
    "name": "ipython",
    "version": 3
   },
   "file_extension": ".py",
   "mimetype": "text/x-python",
   "name": "python",
   "nbconvert_exporter": "python",
   "pygments_lexer": "ipython3",
   "version": "3.7.1"
  }
 },
 "nbformat": 4,
 "nbformat_minor": 2
}
