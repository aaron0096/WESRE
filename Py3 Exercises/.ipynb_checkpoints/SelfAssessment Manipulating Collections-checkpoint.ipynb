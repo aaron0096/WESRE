{
 "cells": [
  {
   "cell_type": "markdown",
   "id": "a39e2692-382c-495f-8f0a-2dcc13d6a16f",
   "metadata": {},
   "source": [
    "## Self-Assessment: Manipulating Collections\n",
    "\n",
    "This assessment allows you to demonstrate your ability to:\n",
    "- Use lists to store data collections and retrieve specific values from a collection.\n",
    "- Use tuples to store data collections and retrieve values.\n"
   ]
  },
  {
   "cell_type": "markdown",
   "id": "1683ff52-6298-4f4b-b99a-a7e73cae3d73",
   "metadata": {},
   "source": [
    "# Instructions\n",
    "Write a program that performs the following steps:\n",
    "- Define a tuple that contains 12 individual numbers.\n",
    "- Split the items in the tuple into three new lists, so each list includes four items from the original tuple.\n",
    "Reverse the values in each list and display the results.\n",
    "For example, if you start with the tuple (4,1,2,3,5,7,9,0,-1), you should end up with the lists [2,1,4], [7,5,3], and [-1,0,9].\n",
    "\n"
   ]
  },
  {
   "cell_type": "code",
   "execution_count": 18,
   "id": "bb0bf86a-3bb9-4ff0-853d-cd7b1cca089e",
   "metadata": {},
   "outputs": [
    {
     "name": "stdout",
     "output_type": "stream",
     "text": [
      "[7, 2, 5, 1] [10, 6, 15, 20] [12, 11, 9, 8]\n"
     ]
    }
   ],
   "source": [
    "# name = Aaron, date = 10/8/22\n",
    "\n",
    "tuple1 = (1,5,2,7,20,15,6,10,8,9,11,12)\n",
    "list1 = []\n",
    "list2 = []\n",
    "list3 = []\n",
    "\n",
    "i2 = 4\n",
    "i3 = 8\n",
    "\n",
    "\n",
    "for i in range(0,4):\n",
    "    \n",
    "    list1.append(tuple1[i])    \n",
    "    list2.append(tuple1[i2])\n",
    "    list3.append(tuple1[i3])\n",
    "    \n",
    "    i2=i2+1\n",
    "    i3=i3+1\n",
    "    \n",
    "list1.reverse()\n",
    "list2.reverse()\n",
    "list3.reverse()\n",
    "    \n",
    "print (list1,list2,list3)"
   ]
  },
  {
   "cell_type": "markdown",
   "id": "822338b5-6a96-4da5-9a5d-b2feafbc9fce",
   "metadata": {},
   "source": [
    "# Requirements\n",
    "- Add your name and a current date in a comment on the first line of code.\n",
    "- Use meaningful variable names so that another developer can easily understand your code.\n",
    "- The code must define a tuple with 12 numbers.\n",
    "- The output must include three lists, where each list includes four numbers from the tuple, in the reverse order from the original tuple."
   ]
  }
 ],
 "metadata": {
  "kernelspec": {
   "display_name": "Python 3 (ipykernel)",
   "language": "python",
   "name": "python3"
  },
  "language_info": {
   "codemirror_mode": {
    "name": "ipython",
    "version": 3
   },
   "file_extension": ".py",
   "mimetype": "text/x-python",
   "name": "python",
   "nbconvert_exporter": "python",
   "pygments_lexer": "ipython3",
   "version": "3.7.1"
  }
 },
 "nbformat": 4,
 "nbformat_minor": 5
}
