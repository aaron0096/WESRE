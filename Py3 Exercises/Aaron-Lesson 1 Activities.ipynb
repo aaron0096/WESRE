{
 "cells": [
  {
   "cell_type": "markdown",
   "metadata": {},
   "source": [
    "# M1 Lesson 1 Activities\n",
    "The activities in this page are designed to test your ability to meet the objectives for Lesson 1, including:\n",
    "1.\tCreate one-line and multiline expressions to perform basic tasks in Python.\n",
    "2.\tInclude comments in a Python program.\n",
    "3.\tDeclare and use variables in a Python program.\n",
    "4.\tWrite a Python program that accepts user input."
   ]
  },
  {
   "cell_type": "markdown",
   "metadata": {},
   "source": [
    "## Activity 1\n",
    "Each of the code blocks below includes at least one error that will prevent it from running. Fix the errors and test to make sure the code runs as expected. Comments at the top of each block will tell you what the code should do. \n",
    "(Objectives 1, 3)"
   ]
  },
  {
   "cell_type": "code",
   "execution_count": 2,
   "metadata": {},
   "outputs": [
    {
     "name": "stdout",
     "output_type": "stream",
     "text": [
      "Python is fun!\n"
     ]
    }
   ],
   "source": [
    "# display the text in quotation marks to an output block\n",
    "# Print(\"Python is fun!\")\n",
    "print(\"Python is fun!\")\n",
    "\n"
   ]
  },
  {
   "cell_type": "code",
   "execution_count": 11,
   "metadata": {},
   "outputs": [
    {
     "name": "stdout",
     "output_type": "stream",
     "text": [
      "Python is fun!\n",
      "Python is also easy.\n"
     ]
    }
   ],
   "source": [
    "# Display the text in quotation marks to an output block \n",
    "# without moving any of the existing code to a different line\n",
    "# print(\"Python is fun!\") print(\"Python is also easy.\")\n",
    "print(\"Python is fun!\") ; print(\"Python is also easy.\")"
   ]
  },
  {
   "cell_type": "code",
   "execution_count": 12,
   "metadata": {},
   "outputs": [
    {
     "name": "stdout",
     "output_type": "stream",
     "text": [
      "Python is fun!\n"
     ]
    }
   ],
   "source": [
    "# Display the text in quotation marks to an output block \n",
    "# without moving any of the existing code to a different line\n",
    "#print \n",
    "#(\"Python is fun!\")\n",
    "\n",
    "print \\\n",
    "(\"Python is fun!\")"
   ]
  },
  {
   "cell_type": "code",
   "execution_count": 13,
   "metadata": {},
   "outputs": [
    {
     "name": "stdout",
     "output_type": "stream",
     "text": [
      "Rebecca\n",
      "Roberts\n"
     ]
    }
   ],
   "source": [
    "# Change each variable name to an appropriate name for Python. \n",
    "# Do not use the same variable name more than one time.\n",
    "# 1-name = \"Rebecca\" # first name\n",
    "# &_name = \"Roberts\" # last name\n",
    "\n",
    "name1 = \"Rebecca\" # first name\n",
    "name2 = \"Roberts\" # last name\n",
    "\n",
    "# After changing the variable names, update the code below \n",
    "#to print out each name.\n",
    "# print(1-name)\n",
    "# print(&_name)\n",
    "\n",
    "print(name1)\n",
    "print(name2)"
   ]
  },
  {
   "cell_type": "markdown",
   "metadata": {},
   "source": [
    "## Activity 2\n",
    "Starting with the code blocks provided below, add to the code as needed to follow the instructions in the comments. You may add necessary code, but you should not delete any of the existing code. Run each block to make sure it works as expected before going to the next block. "
   ]
  },
  {
   "cell_type": "code",
   "execution_count": 14,
   "metadata": {},
   "outputs": [
    {
     "name": "stdout",
     "output_type": "stream",
     "text": [
      "I love Python!\n"
     ]
    }
   ],
   "source": [
    "# Add a new line of code that displays the text in quotation marks \n",
    "# to an output block without repeating the text in quotation marks.\n",
    "output = \"I love Python!\"\n",
    "\n",
    "# your code below this line\n",
    "\n",
    "print(output)"
   ]
  },
  {
   "cell_type": "code",
   "execution_count": null,
   "metadata": {},
   "outputs": [],
   "source": [
    "# Display only the text Python is fun! to an output block \n",
    "# without deleting any of the existing code\n",
    "# print(\"Python is fun!\")\n",
    "# print(\"Python is also easy!\")\n",
    "\n",
    "print(\"Python is fun!\")\n",
    "# print(\"Python is also easy!\")"
   ]
  },
  {
   "cell_type": "markdown",
   "metadata": {},
   "source": [
    "## Activity 3\n",
    "Create a script that prompts the user for the name of the state where they were born and the name of the state where they live now. Save each value in its own variable and display the input values to the user."
   ]
  },
  {
   "cell_type": "code",
   "execution_count": 16,
   "metadata": {},
   "outputs": [
    {
     "name": "stdin",
     "output_type": "stream",
     "text": [
      "Please enter the name of the state you are born in:  sg\n",
      "Please enter the name of the state you are living in:  msia\n"
     ]
    },
    {
     "name": "stdout",
     "output_type": "stream",
     "text": [
      "You were born in sg and live in msia now\n"
     ]
    }
   ],
   "source": [
    "# your code here\n",
    "\n",
    "stateborn=input(\"Please enter the name of the state you are born in: \")\n",
    "statelive=input(\"Please enter the name of the state you are living in: \")\n",
    "\n",
    "print(\"You were born in {} and live in {} now\".format(stateborn, statelive))\n"
   ]
  },
  {
   "cell_type": "markdown",
   "metadata": {},
   "source": [
    "## Requirements\n",
    "Write a script that meets the following requirements:\n",
    "\n",
    "Add your name and the current date in comments at the top of the script.<br>\n",
    "Prompt the user to enter their first name, their last name, their phone number, and the year they were born. Save each of these values to a different variable.<br>\n",
    "Display the values they entered.<br>\n",
    "Test your script to make sure it works as expected.\n",
    "\n",
    "## Self-Check\n",
    "Use the checklist below to verify that your program meets requirements:\n",
    "\n",
    "Your name and the current date appear at the top of the block of code.\n",
    "The program includes four prompts, each of which is saved to a different variable with an appropriate name:<br>\n",
    "\n",
    "    First name<br>\n",
    "    Last name<br>\n",
    "    Phone number<br>\n",
    "    Year born<br>\n",
    "The program displays each of these values to the user.<br>\n",
    "There is an acceptable level of variation in setting up and designing the program's flow. The key takeaway is that the program meets the requirements listed and runs without error."
   ]
  },
  {
   "cell_type": "code",
   "execution_count": 17,
   "metadata": {},
   "outputs": [
    {
     "name": "stdin",
     "output_type": "stream",
     "text": [
      "Please enter your first name:  aa\n",
      "Please enter your last name:  low\n",
      "Please enter your phone number:  999\n",
      "Please enter the year you were born in:  96\n"
     ]
    },
    {
     "name": "stdout",
     "output_type": "stream",
     "text": [
      "Your name is aa low, phone number is 999 and you were born in 96\n"
     ]
    }
   ],
   "source": [
    "# name = Aaron, current date = 8/8/2022\n",
    "\n",
    "firstname=input(\"Please enter your first name: \")\n",
    "lastname=input(\"Please enter your last name: \")\n",
    "phone=input(\"Please enter your phone number: \")\n",
    "yearborn=input(\"Please enter the year you were born in: \")\n",
    "\n",
    "print(\"Your name is {} {}, phone number is {} and you were born in {}\".format(firstname,lastname,phone,yearborn))"
   ]
  },
  {
   "cell_type": "code",
   "execution_count": null,
   "metadata": {},
   "outputs": [],
   "source": []
  }
 ],
 "metadata": {
  "kernelspec": {
   "display_name": "Python 3",
   "language": "python",
   "name": "python3"
  },
  "language_info": {
   "codemirror_mode": {
    "name": "ipython",
    "version": 3
   },
   "file_extension": ".py",
   "mimetype": "text/x-python",
   "name": "python",
   "nbconvert_exporter": "python",
   "pygments_lexer": "ipython3",
   "version": "3.7.1"
  }
 },
 "nbformat": 4,
 "nbformat_minor": 2
}
