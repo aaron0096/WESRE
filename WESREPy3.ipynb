{
 "cells": [
  {
   "cell_type": "code",
   "execution_count": null,
   "metadata": {},
   "outputs": [],
   "source": [
    "test = \"hello\"\n",
    "test2 = \"world\"\n",
    "\n",
    "print(\"{} {}\".format(test,test2))"
   ]
  },
  {
   "cell_type": "code",
   "execution_count": null,
   "metadata": {},
   "outputs": [],
   "source": [
    "num1 = 100\n",
    "num2 = int(input(\"enter a value under 10 : \"))\n",
    "\n",
    "while not (num2 > 0 and num2 < 10):\n",
    "    print(\"Wrong value, please enter again.\" -n)\n",
    "    num2 = int(input(\"enter a value under 10 : \"))\n",
    "\n",
    "result = num1 // num2\n",
    "remainder = num1 % num2\n",
    "print(\"{} is divisible by {}, {} number of times. With remainder of {}\".format(num1,num2,result,remainder))\n",
    "    \n"
   ]
  },
  {
   "cell_type": "code",
   "execution_count": null,
   "metadata": {},
   "outputs": [],
   "source": [
    "dayno = int(input(\"Please key in number of days for calculation.\"))\n",
    "\n",
    "hours = dayno * 24\n",
    "minutes = hours * 60\n",
    "seconds = minutes*60\n",
    "\n",
    "print(\"In {} day(s), contain Hours = {}, Minutes = {}, Seconds = {}\".format(dayno,hours,minutes,seconds))"
   ]
  },
  {
   "cell_type": "code",
   "execution_count": 12,
   "metadata": {},
   "outputs": [
    {
     "name": "stdin",
     "output_type": "stream",
     "text": [
      "Please enter 1, 2, or 3 ad\n"
     ]
    },
    {
     "name": "stdout",
     "output_type": "stream",
     "text": [
      "Value entered is not int\n"
     ]
    },
    {
     "name": "stdin",
     "output_type": "stream",
     "text": [
      "Please enter 1, 2, or 3 2.2\n"
     ]
    },
    {
     "name": "stdout",
     "output_type": "stream",
     "text": [
      "Value entered is not int\n"
     ]
    },
    {
     "name": "stdin",
     "output_type": "stream",
     "text": [
      "Please enter 1, 2, or 3 6\n"
     ]
    },
    {
     "name": "stdout",
     "output_type": "stream",
     "text": [
      "Error message\n"
     ]
    }
   ],
   "source": [
    "number = input(\"Please enter 1, 2, or 3\")\n",
    "\n",
    "test1=0\n",
    "while test1 == 0:\n",
    "    \n",
    "    try:\n",
    "        number = int(number)\n",
    "    except:\n",
    "        print(\"Value entered is not int\")\n",
    "        number = input(\"Please enter 1, 2, or 3\")\n",
    "\n",
    "    test1 = isinstance(number,(int))\n",
    "\n",
    "number = int(number)\n",
    "    \n",
    "if number == 1:\n",
    "    print(\"Thank You\")\n",
    "elif number == 2:\n",
    "    print(\"Well Done\")\n",
    "elif number == 3:\n",
    "    print(\"Correct\")\n",
    "else:\n",
    "    print(\"Error message\")"
   ]
  }
 ],
 "metadata": {
  "kernelspec": {
   "display_name": "Python 3",
   "language": "python",
   "name": "python3"
  },
  "language_info": {
   "codemirror_mode": {
    "name": "ipython",
    "version": 3
   },
   "file_extension": ".py",
   "mimetype": "text/x-python",
   "name": "python",
   "nbconvert_exporter": "python",
   "pygments_lexer": "ipython3",
   "version": "3.7.1"
  }
 },
 "nbformat": 4,
 "nbformat_minor": 2
}
